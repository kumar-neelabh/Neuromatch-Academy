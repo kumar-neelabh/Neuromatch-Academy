{
  "cells": [
    {
      "cell_type": "markdown",
      "metadata": {
        "id": "view-in-github",
        "colab_type": "text"
      },
      "source": [
        "<a href=\"https://colab.research.google.com/github/kumar-neelabh/Neuromatch-Academy/blob/main/tutorials/W1D4_DimensionalityReduction/student/W1D4_Tutorial3.ipynb\" target=\"_parent\"><img src=\"https://colab.research.google.com/assets/colab-badge.svg\" alt=\"Open In Colab\"/></a>"
      ]
    },
    {
      "cell_type": "markdown",
      "metadata": {
        "execution": {},
        "id": "rGLaOdMh1SWK"
      },
      "source": [
        "# Tutorial 3: Dimensionality Reduction & Reconstruction\n",
        "\n",
        "**Week 1, Day 4: Dimensionality Reduction**\n",
        "\n",
        "**By Neuromatch Academy**\n",
        "\n",
        "__Content creators:__ Alex Cayco Gajic, John Murray\n",
        "\n",
        "__Content reviewers:__ Roozbeh Farhoudi, Matt Krause, Spiros Chavlis, Richard Gao, Michael Waskom,  Siddharth Suresh, Natalie Schaworonkow, Ella Batty"
      ]
    },
    {
      "cell_type": "markdown",
      "metadata": {
        "execution": {},
        "id": "qfVV54_H1SWP"
      },
      "source": [
        "<p align='center'><img src='https://github.com/NeuromatchAcademy/widgets/blob/master/sponsors.png?raw=True'/></p>"
      ]
    },
    {
      "cell_type": "markdown",
      "metadata": {
        "execution": {},
        "id": "iWahmrgH1SWQ"
      },
      "source": [
        "---\n",
        "# Tutorial Objectives\n",
        "\n",
        "*Estimated timing of tutorial: 50 minutes*\n",
        "\n",
        "In this notebook we'll learn to apply PCA for dimensionality reduction, using a classic dataset that is often used to benchmark machine learning algorithms: MNIST. We'll also learn how to use PCA for reconstruction and denoising.\n",
        "\n",
        "Overview:\n",
        "- Perform PCA on MNIST\n",
        "- Calculate the variance explained\n",
        "- Reconstruct data with different numbers of PCs\n",
        "- (Bonus) Examine denoising using PCA\n",
        "\n",
        "\n",
        "You can learn more about the MNIST dataset [here](https://en.wikipedia.org/wiki/MNIST_database)."
      ]
    },
    {
      "cell_type": "code",
      "execution_count": null,
      "metadata": {
        "cellView": "form",
        "execution": {},
        "id": "_50L7iMN1SWR"
      },
      "outputs": [],
      "source": [
        "# @title Tutorial slides\n",
        "\n",
        "# @markdown These are the slides for the videos in all tutorials today\n",
        "from IPython.display import IFrame\n",
        "IFrame(src=f\"https://mfr.ca-1.osf.io/render?url=https://osf.io/kaq2x/?direct%26mode=render%26action=download%26mode=render\", width=854, height=480)"
      ]
    },
    {
      "cell_type": "code",
      "execution_count": 1,
      "metadata": {
        "cellView": "form",
        "execution": {},
        "id": "yVcvdxDU1SWS",
        "outputId": "ebf9d625-36f4-4183-e40b-3a21392b5127",
        "colab": {
          "base_uri": "https://localhost:8080/",
          "height": 581,
          "referenced_widgets": [
            "b13371b478934f19b7ccb13c896c1969",
            "3a3f1cd1ef0549c69346777acc3182e1",
            "70f77028507e489c860b57dac26d32c8",
            "7db37f306ca74f65ae9ca58f8f8215b9",
            "1c8942dbc3d5414393161692a4cd29b5",
            "26f8b850c0914902a80f15a5232fec7e"
          ]
        }
      },
      "outputs": [
        {
          "output_type": "display_data",
          "data": {
            "text/plain": [
              "Tab(children=(Output(), Output()), _titles={'0': 'Youtube', '1': 'Bilibili'})"
            ],
            "application/vnd.jupyter.widget-view+json": {
              "version_major": 2,
              "version_minor": 0,
              "model_id": "b13371b478934f19b7ccb13c896c1969"
            }
          },
          "metadata": {}
        }
      ],
      "source": [
        "# @title Video 1: PCA for dimensionality reduction\n",
        "from ipywidgets import widgets\n",
        "\n",
        "out2 = widgets.Output()\n",
        "with out2:\n",
        "  from IPython.display import IFrame\n",
        "  class BiliVideo(IFrame):\n",
        "      def __init__(self, id, page=1, width=400, height=300, **kwargs):\n",
        "          self.id=id\n",
        "          src = 'https://player.bilibili.com/player.html?bvid={0}&page={1}'.format(id, page)\n",
        "          super(BiliVideo, self).__init__(src, width, height, **kwargs)\n",
        "\n",
        "  video = BiliVideo(id=\"BV1up4y1S7xs\", width=854, height=480, fs=1)\n",
        "  print('Video available at https://www.bilibili.com/video/{0}'.format(video.id))\n",
        "  display(video)\n",
        "\n",
        "out1 = widgets.Output()\n",
        "with out1:\n",
        "  from IPython.display import YouTubeVideo\n",
        "  video = YouTubeVideo(id=\"oO0bbInoO_0\", width=854, height=480, fs=1, rel=0)\n",
        "  print('Video available at https://youtube.com/watch?v=' + video.id)\n",
        "  display(video)\n",
        "\n",
        "out = widgets.Tab([out1, out2])\n",
        "out.set_title(0, 'Youtube')\n",
        "out.set_title(1, 'Bilibili')\n",
        "\n",
        "display(out)"
      ]
    },
    {
      "cell_type": "markdown",
      "metadata": {
        "execution": {},
        "id": "12jRaJbJ1SWT"
      },
      "source": [
        "---\n",
        "# Setup"
      ]
    },
    {
      "cell_type": "code",
      "execution_count": 2,
      "metadata": {
        "execution": {},
        "id": "o3EF6eKB1SWT"
      },
      "outputs": [],
      "source": [
        "# Imports\n",
        "import numpy as np\n",
        "import matplotlib.pyplot as plt"
      ]
    },
    {
      "cell_type": "code",
      "execution_count": 3,
      "metadata": {
        "cellView": "form",
        "execution": {},
        "id": "WQVOunB61SWU"
      },
      "outputs": [],
      "source": [
        "# @title Figure Settings\n",
        "import ipywidgets as widgets   # interactive display\n",
        "%config InlineBackend.figure_format = 'retina'\n",
        "plt.style.use(\"https://raw.githubusercontent.com/NeuromatchAcademy/course-content/main/nma.mplstyle\")"
      ]
    },
    {
      "cell_type": "code",
      "execution_count": 4,
      "metadata": {
        "cellView": "form",
        "execution": {},
        "id": "Mb3a0lkY1SWU"
      },
      "outputs": [],
      "source": [
        "# @title Plotting Functions\n",
        "\n",
        "def plot_variance_explained(variance_explained):\n",
        "  \"\"\"\n",
        "  Plots eigenvalues.\n",
        "\n",
        "  Args:\n",
        "    variance_explained (numpy array of floats) : Vector of variance explained\n",
        "                                                 for each PC\n",
        "\n",
        "  Returns:\n",
        "    Nothing.\n",
        "\n",
        "  \"\"\"\n",
        "\n",
        "  plt.figure()\n",
        "  plt.plot(np.arange(1, len(variance_explained) + 1), variance_explained,\n",
        "           '--k')\n",
        "  plt.xlabel('Number of components')\n",
        "  plt.ylabel('Variance explained')\n",
        "  plt.show()\n",
        "\n",
        "\n",
        "def plot_MNIST_reconstruction(X, X_reconstructed):\n",
        "  \"\"\"\n",
        "  Plots 9 images in the MNIST dataset side-by-side with the reconstructed\n",
        "  images.\n",
        "\n",
        "  Args:\n",
        "    X (numpy array of floats)               : Data matrix each column\n",
        "                                              corresponds to a different\n",
        "                                              random variable\n",
        "    X_reconstructed (numpy array of floats) : Data matrix each column\n",
        "                                              corresponds to a different\n",
        "                                              random variable\n",
        "\n",
        "  Returns:\n",
        "    Nothing.\n",
        "  \"\"\"\n",
        "\n",
        "  plt.figure()\n",
        "  ax = plt.subplot(121)\n",
        "  k = 0\n",
        "  for k1 in range(3):\n",
        "    for k2 in range(3):\n",
        "      k = k + 1\n",
        "      plt.imshow(np.reshape(X[k, :], (28, 28)),\n",
        "                 extent=[(k1 + 1) * 28, k1 * 28, (k2 + 1) * 28, k2 * 28],\n",
        "                 vmin=0, vmax=255)\n",
        "  plt.xlim((3 * 28, 0))\n",
        "  plt.ylim((3 * 28, 0))\n",
        "  plt.tick_params(axis='both', which='both', bottom=False, top=False,\n",
        "                  labelbottom=False)\n",
        "  ax.set_xticks([])\n",
        "  ax.set_yticks([])\n",
        "  plt.title('Data')\n",
        "  plt.clim([0, 250])\n",
        "  ax = plt.subplot(122)\n",
        "  k = 0\n",
        "  for k1 in range(3):\n",
        "    for k2 in range(3):\n",
        "      k = k + 1\n",
        "      plt.imshow(np.reshape(np.real(X_reconstructed[k, :]), (28, 28)),\n",
        "                 extent=[(k1 + 1) * 28, k1 * 28, (k2 + 1) * 28, k2 * 28],\n",
        "                 vmin=0, vmax=255)\n",
        "  plt.xlim((3 * 28, 0))\n",
        "  plt.ylim((3 * 28, 0))\n",
        "  plt.tick_params(axis='both', which='both', bottom=False, top=False,\n",
        "                  labelbottom=False)\n",
        "  ax.set_xticks([])\n",
        "  ax.set_yticks([])\n",
        "  plt.clim([0, 250])\n",
        "  plt.title('Reconstructed')\n",
        "  plt.tight_layout()\n",
        "\n",
        "\n",
        "def plot_MNIST_sample(X):\n",
        "  \"\"\"\n",
        "  Plots 9 images in the MNIST dataset.\n",
        "\n",
        "  Args:\n",
        "     X (numpy array of floats) : Data matrix each column corresponds to a\n",
        "                                 different random variable\n",
        "\n",
        "  Returns:\n",
        "    Nothing.\n",
        "\n",
        "  \"\"\"\n",
        "\n",
        "  fig, ax = plt.subplots()\n",
        "  k = 0\n",
        "  for k1 in range(3):\n",
        "    for k2 in range(3):\n",
        "      k = k + 1\n",
        "      plt.imshow(np.reshape(X[k, :], (28, 28)),\n",
        "                 extent=[(k1 + 1) * 28, k1 * 28, (k2+1) * 28, k2 * 28],\n",
        "                 vmin=0, vmax=255)\n",
        "  plt.xlim((3 * 28, 0))\n",
        "  plt.ylim((3 * 28, 0))\n",
        "  plt.tick_params(axis='both', which='both', bottom=False, top=False,\n",
        "                  labelbottom=False)\n",
        "  plt.clim([0, 250])\n",
        "  ax.set_xticks([])\n",
        "  ax.set_yticks([])\n",
        "  plt.show()\n",
        "\n",
        "\n",
        "def plot_MNIST_weights(weights):\n",
        "  \"\"\"\n",
        "  Visualize PCA basis vector weights for MNIST. Red = positive weights,\n",
        "  blue = negative weights, white = zero weight.\n",
        "\n",
        "  Args:\n",
        "     weights (numpy array of floats) : PCA basis vector\n",
        "\n",
        "  Returns:\n",
        "     Nothing.\n",
        "  \"\"\"\n",
        "\n",
        "  fig, ax = plt.subplots()\n",
        "  cmap = plt.cm.get_cmap('seismic')\n",
        "  plt.imshow(np.real(np.reshape(weights, (28, 28))), cmap=cmap)\n",
        "  plt.tick_params(axis='both', which='both', bottom=False, top=False,\n",
        "                  labelbottom=False)\n",
        "  plt.clim(-.15, .15)\n",
        "  plt.colorbar(ticks=[-.15, -.1, -.05, 0, .05, .1, .15])\n",
        "  ax.set_xticks([])\n",
        "  ax.set_yticks([])\n",
        "  plt.show()\n",
        "\n",
        "\n",
        "def plot_eigenvalues(evals, limit=True):\n",
        "  \"\"\"\n",
        "  Plots eigenvalues.\n",
        "\n",
        "  Args:\n",
        "     (numpy array of floats) : Vector of eigenvalues\n",
        "\n",
        "  Returns:\n",
        "    Nothing.\n",
        "\n",
        "  \"\"\"\n",
        "\n",
        "  plt.figure()\n",
        "  plt.plot(np.arange(1, len(evals) + 1), evals, 'o-k')\n",
        "  plt.xlabel('Component')\n",
        "  plt.ylabel('Eigenvalue')\n",
        "  plt.title('Scree plot')\n",
        "  if limit:\n",
        "    plt.show()"
      ]
    },
    {
      "cell_type": "code",
      "execution_count": 5,
      "metadata": {
        "cellView": "form",
        "execution": {},
        "id": "CuZFLDUw1SWV"
      },
      "outputs": [],
      "source": [
        "# @title Helper Functions\n",
        "\n",
        "def add_noise(X, frac_noisy_pixels):\n",
        "  \"\"\"\n",
        "  Randomly corrupts a fraction of the pixels by setting them to random values.\n",
        "\n",
        "  Args:\n",
        "     X (numpy array of floats)  : Data matrix\n",
        "     frac_noisy_pixels (scalar) : Fraction of noisy pixels\n",
        "\n",
        "  Returns:\n",
        "     (numpy array of floats)    : Data matrix + noise\n",
        "\n",
        "  \"\"\"\n",
        "\n",
        "  X_noisy = np.reshape(X, (X.shape[0] * X.shape[1]))\n",
        "  N_noise_ixs = int(X_noisy.shape[0] * frac_noisy_pixels)\n",
        "  noise_ixs = np.random.choice(X_noisy.shape[0], size=N_noise_ixs,\n",
        "                               replace=False)\n",
        "  X_noisy[noise_ixs] = np.random.uniform(0, 255, noise_ixs.shape)\n",
        "  X_noisy = np.reshape(X_noisy, (X.shape[0], X.shape[1]))\n",
        "\n",
        "  return X_noisy\n",
        "\n",
        "\n",
        "def change_of_basis(X, W):\n",
        "  \"\"\"\n",
        "  Projects data onto a new basis.\n",
        "\n",
        "  Args:\n",
        "    X (numpy array of floats) : Data matrix each column corresponding to a\n",
        "                                different random variable\n",
        "    W (numpy array of floats) : new orthonormal basis columns correspond to\n",
        "                                basis vectors\n",
        "\n",
        "  Returns:\n",
        "    (numpy array of floats)   : Data matrix expressed in new basis\n",
        "  \"\"\"\n",
        "\n",
        "  Y = np.matmul(X, W)\n",
        "\n",
        "  return Y\n",
        "\n",
        "\n",
        "def get_sample_cov_matrix(X):\n",
        "  \"\"\"\n",
        "  Returns the sample covariance matrix of data X.\n",
        "\n",
        "  Args:\n",
        "    X (numpy array of floats) : Data matrix each column corresponds to a\n",
        "                                different random variable\n",
        "\n",
        "  Returns:\n",
        "    (numpy array of floats)   : Covariance matrix\n",
        "\"\"\"\n",
        "\n",
        "  X = X - np.mean(X, 0)\n",
        "  cov_matrix = 1 / X.shape[0] * np.matmul(X.T, X)\n",
        "  return cov_matrix\n",
        "\n",
        "\n",
        "def sort_evals_descending(evals, evectors):\n",
        "  \"\"\"\n",
        "  Sorts eigenvalues and eigenvectors in decreasing order. Also aligns first two\n",
        "  eigenvectors to be in first two quadrants (if 2D).\n",
        "\n",
        "  Args:\n",
        "    evals (numpy array of floats)    :   Vector of eigenvalues\n",
        "    evectors (numpy array of floats) :   Corresponding matrix of eigenvectors\n",
        "                                         each column corresponds to a different\n",
        "                                         eigenvalue\n",
        "\n",
        "  Returns:\n",
        "    (numpy array of floats)          : Vector of eigenvalues after sorting\n",
        "    (numpy array of floats)          : Matrix of eigenvectors after sorting\n",
        "  \"\"\"\n",
        "\n",
        "  index = np.flip(np.argsort(evals))\n",
        "  evals = evals[index]\n",
        "  evectors = evectors[:, index]\n",
        "  if evals.shape[0] == 2:\n",
        "    if np.arccos(np.matmul(evectors[:, 0],\n",
        "                           1 / np.sqrt(2) * np.array([1, 1]))) > np.pi / 2:\n",
        "      evectors[:, 0] = -evectors[:, 0]\n",
        "    if np.arccos(np.matmul(evectors[:, 1],\n",
        "                           1 / np.sqrt(2)*np.array([-1, 1]))) > np.pi / 2:\n",
        "      evectors[:, 1] = -evectors[:, 1]\n",
        "\n",
        "  return evals, evectors\n",
        "\n",
        "\n",
        "def pca(X):\n",
        "  \"\"\"\n",
        "  Performs PCA on multivariate data. Eigenvalues are sorted in decreasing order\n",
        "\n",
        "  Args:\n",
        "     X (numpy array of floats) :   Data matrix each column corresponds to a\n",
        "                                   different random variable\n",
        "\n",
        "  Returns:\n",
        "    (numpy array of floats)    : Data projected onto the new basis\n",
        "    (numpy array of floats)    : Corresponding matrix of eigenvectors\n",
        "    (numpy array of floats)    : Vector of eigenvalues\n",
        "\n",
        "  \"\"\"\n",
        "\n",
        "  X = X - np.mean(X, 0)\n",
        "  cov_matrix = get_sample_cov_matrix(X)\n",
        "  evals, evectors = np.linalg.eigh(cov_matrix)\n",
        "  evals, evectors = sort_evals_descending(evals, evectors)\n",
        "  score = change_of_basis(X, evectors)\n",
        "\n",
        "  return score, evectors, evals"
      ]
    },
    {
      "cell_type": "markdown",
      "metadata": {
        "execution": {},
        "id": "_u8Mr6x-1SWW"
      },
      "source": [
        "---\n",
        "# Section 1: Perform PCA on MNIST\n",
        "\n",
        "The MNIST dataset consists of 70,000 images of individual handwritten digits. Each image is a 28x28 pixel grayscale image. For convenience, each 28x28 pixel image is often unravelled into a single 784 (=28x28) element vector, so that the whole dataset is represented as a 70,000 x 784 matrix. Each row represents a different image, and each column represents a different pixel.\n",
        " \n",
        "Enter the following cell to load the MNIST dataset and plot the first nine images. It may take a few minutes to load."
      ]
    },
    {
      "cell_type": "code",
      "execution_count": 6,
      "metadata": {
        "execution": {},
        "id": "cJyBSbNH1SWX",
        "outputId": "17d31cff-e7fe-4817-b77e-bbd5eaf3454a",
        "colab": {
          "base_uri": "https://localhost:8080/",
          "height": 430
        }
      },
      "outputs": [
        {
          "output_type": "display_data",
          "data": {
            "text/plain": [
              "<Figure size 576x432 with 1 Axes>"
            ],
            "image/png": "[encoded data removed]"
          },
          "metadata": {
            "image/png": {
              "width": 418,
              "height": 413
            }
          }
        }
      ],
      "source": [
        "from sklearn.datasets import fetch_openml\n",
        "\n",
        "# GET mnist data\n",
        "mnist = fetch_openml(name='mnist_784', as_frame = False)\n",
        "X = mnist.data\n",
        "\n",
        "# Visualize\n",
        "plot_MNIST_sample(X)"
      ]
    },
    {
      "cell_type": "markdown",
      "metadata": {
        "execution": {},
        "id": "uUsp9cmj1SWX"
      },
      "source": [
        "The MNIST dataset has an extrinsic dimensionality of 784, much higher than the 2-dimensional examples used in the previous tutorials! To make sense of this data, we'll use dimensionality reduction. But first, we need to determine the intrinsic dimensionality $K$ of the data. One way to do this is to look for an \"elbow\" in the scree plot, to determine which eigenvalues are significant."
      ]
    },
    {
      "cell_type": "markdown",
      "metadata": {
        "execution": {},
        "id": "ZoISOBNd1SWX"
      },
      "source": [
        "## Coding Exercise 1: Scree plot of MNIST\n",
        "\n",
        "In this exercise you will examine the scree plot in the MNIST dataset.\n",
        "\n",
        "**Steps:**\n",
        "- Perform PCA on the dataset using our function `pca` from tutorial 2 (already loaded in) and examine the scree plot. \n",
        "- When do the eigenvalues appear (by eye) to reach zero? (**Hint:** use `plt.xlim` to zoom into a section of the plot).\n"
      ]
    },
    {
      "cell_type": "code",
      "execution_count": 7,
      "metadata": {
        "execution": {},
        "id": "jMxQL05W1SWY",
        "outputId": "f0b4e317-e9d5-4c21-864d-fe88f7c6de73",
        "colab": {
          "base_uri": "https://localhost:8080/"
        }
      },
      "outputs": [
        {
          "output_type": "stream",
          "name": "stdout",
          "text": [
            "Help on function pca in module __main__:\n",
            "\n",
            "pca(X)\n",
            "    Performs PCA on multivariate data. Eigenvalues are sorted in decreasing order\n",
            "    \n",
            "    Args:\n",
            "       X (numpy array of floats) :   Data matrix each column corresponds to a\n",
            "                                     different random variable\n",
            "    \n",
            "    Returns:\n",
            "      (numpy array of floats)    : Data projected onto the new basis\n",
            "      (numpy array of floats)    : Corresponding matrix of eigenvectors\n",
            "      (numpy array of floats)    : Vector of eigenvalues\n",
            "\n"
          ]
        }
      ],
      "source": [
        "help(pca)"
      ]
    },
    {
      "cell_type": "code",
      "execution_count": 8,
      "metadata": {
        "execution": {},
        "id": "-Old31aP1SWY",
        "outputId": "76f6a54a-2514-4449-e961-13865ec75f7b",
        "colab": {
          "base_uri": "https://localhost:8080/",
          "height": 447
        }
      },
      "outputs": [
        {
          "output_type": "execute_result",
          "data": {
            "text/plain": [
              "(0.0, 30.0)"
            ]
          },
          "metadata": {},
          "execution_count": 8
        },
        {
          "output_type": "display_data",
          "data": {
            "text/plain": [
              "<Figure size 576x432 with 1 Axes>"
            ],
            "image/png": "[encoded data removed]"
          },
          "metadata": {
            "image/png": {
              "width": 558,
              "height": 413
            },
            "needs_background": "light"
          }
        }
      ],
      "source": [
        "#################################################\n",
        "## TODO for students\n",
        "# Fill out function and remove\n",
        "# raise NotImplementedError(\"Student exercise: perform PCA and visualize scree plot\")\n",
        "#################################################\n",
        "\n",
        "# Perform PCA\n",
        "score, evectors, evals = pca(X)\n",
        "\n",
        "# Plot the eigenvalues\n",
        "plot_eigenvalues(evals, limit=False)\n",
        "plt.xlim(0, 30)  # limit x-axis up to 100 for zooming"
      ]
    },
    {
      "cell_type": "markdown",
      "metadata": {
        "execution": {},
        "id": "kxtMA2gY1SWY"
      },
      "source": [
        "[*Click for solution*](https://github.com/NeuromatchAcademy/course-content/tree/main//tutorials/W1D4_DimensionalityReduction/solutions/W1D4_Tutorial3_Solution_d8411e54.py)\n",
        "\n",
        "*Example output:*\n",
        "\n",
        "<img alt='Solution hint' align='left' width=849.0 height=561.0 src=https://raw.githubusercontent.com/NeuromatchAcademy/course-content/main/tutorials/W1D4_DimensionalityReduction/static/W1D4_Tutorial3_Solution_d8411e54_0.png>\n",
        "\n"
      ]
    },
    {
      "cell_type": "markdown",
      "metadata": {
        "execution": {},
        "id": "CJxZehjB1SWY"
      },
      "source": [
        "---\n",
        "# Section 2: Calculate the variance explained\n",
        "\n",
        "*Estimated timing to here from start of tutorial: 15 min*\n",
        "\n",
        "The scree plot suggests that most of the eigenvalues are near zero, with fewer than 100 having large values. Another common way to determine the intrinsic dimensionality is by considering the variance explained. This can be examined with a cumulative plot of the fraction of the total variance explained by the top $K$ components, i.e.,\n",
        "\n",
        "\\begin{equation}\n",
        "\\text{var explained} = \\frac{\\sum_{i=1}^K \\lambda_i}{\\sum_{i=1}^N \\lambda_i}\n",
        "\\end{equation}\n",
        "\n",
        "where $\\lambda_i$ is the $i^{th}$ eigenvalue and $N$ is the total number of components (the original number of dimensions in the data).\n",
        "\n",
        "The intrinsic dimensionality is often quantified by the $K$ necessary to explain a large proportion of the total variance of the data (often a defined threshold, e.g., 90%)."
      ]
    },
    {
      "cell_type": "markdown",
      "metadata": {
        "execution": {},
        "id": "8NpEx0JU1SWY"
      },
      "source": [
        "## Coding Exercise 2: Plot the explained variance\n",
        "\n",
        "In this exercise you will plot the explained variance.\n",
        "\n",
        "**Steps:**\n",
        "- Fill in the function below to calculate the fraction variance explained as a function of the number of principal components. **Hint:** use `np.cumsum`.\n",
        "- Plot the variance explained using `plot_variance_explained`.\n",
        "\n",
        "**Questions:**\n",
        "- How many principal components are required to explain 90% of the variance?\n",
        "- How does the intrinsic dimensionality of this dataset compare to its extrinsic dimensionality?\n"
      ]
    },
    {
      "cell_type": "code",
      "execution_count": 9,
      "metadata": {
        "execution": {},
        "id": "2GgfDUcx1SWZ",
        "outputId": "666d967f-cb4a-4259-eaed-a43eedd2521b",
        "colab": {
          "base_uri": "https://localhost:8080/",
          "height": 430
        }
      },
      "outputs": [
        {
          "output_type": "display_data",
          "data": {
            "text/plain": [
              "<Figure size 576x432 with 1 Axes>"
            ],
            "image/png": "[encoded data removed]"
          },
          "metadata": {
            "image/png": {
              "width": 558,
              "height": 413
            },
            "needs_background": "light"
          }
        }
      ],
      "source": [
        "def get_variance_explained(evals):\n",
        "  \"\"\"\n",
        "  Calculates variance explained from the eigenvalues.\n",
        "\n",
        "  Args:\n",
        "    evals (numpy array of floats) : Vector of eigenvalues\n",
        "\n",
        "  Returns:\n",
        "    (numpy array of floats)       : Vector of variance explained\n",
        "\n",
        "  \"\"\"\n",
        "\n",
        "  #################################################\n",
        "  ## TO DO for students: calculate the explained variance using the equation\n",
        "  ## from Section 2.\n",
        "  # Comment once you've filled in the function\n",
        "  # raise NotImplementedError(\"Student exercise: calculate explain variance!\")\n",
        "  #################################################\n",
        "\n",
        "  # Cumulatively sum the eigenvalues\n",
        "  csum = np.cumsum(evals)\n",
        "\n",
        "  # Normalize by the sum of eigenvalues\n",
        "  variance_explained = csum / np.sum(evals)\n",
        "\n",
        "  return variance_explained\n",
        "\n",
        "\n",
        "# Calculate the variance explained\n",
        "variance_explained = get_variance_explained(evals)\n",
        "\n",
        "# Visualize\n",
        "plot_variance_explained(variance_explained)"
      ]
    },
    {
      "cell_type": "markdown",
      "metadata": {
        "execution": {},
        "id": "U7c7rMog1SWZ"
      },
      "source": [
        "[*Click for solution*](https://github.com/NeuromatchAcademy/course-content/tree/main//tutorials/W1D4_DimensionalityReduction/solutions/W1D4_Tutorial3_Solution_a4ac4c9c.py)\n",
        "\n",
        "*Example output:*\n",
        "\n",
        "<img alt='Solution hint' align='left' width=831.0 height=544.0 src=https://raw.githubusercontent.com/NeuromatchAcademy/course-content/main/tutorials/W1D4_DimensionalityReduction/static/W1D4_Tutorial3_Solution_a4ac4c9c_0.png>\n",
        "\n"
      ]
    },
    {
      "cell_type": "markdown",
      "metadata": {
        "execution": {},
        "id": "XehxUWE71SWZ"
      },
      "source": [
        "---\n",
        "# Section 3: Reconstruct data with different numbers of PCs\n",
        "\n",
        "*Estimated timing to here from start of tutorial: 25 min*\n",
        "\n"
      ]
    },
    {
      "cell_type": "code",
      "execution_count": null,
      "metadata": {
        "cellView": "form",
        "execution": {},
        "id": "9sYJymS81SWZ"
      },
      "outputs": [],
      "source": [
        "# @title Video 2: Data Reconstruction\n",
        "from ipywidgets import widgets\n",
        "\n",
        "out2 = widgets.Output()\n",
        "with out2:\n",
        "  from IPython.display import IFrame\n",
        "  class BiliVideo(IFrame):\n",
        "      def __init__(self, id, page=1, width=400, height=300, **kwargs):\n",
        "          self.id=id\n",
        "          src = 'https://player.bilibili.com/player.html?bvid={0}&page={1}'.format(id, page)\n",
        "          super(BiliVideo, self).__init__(src, width, height, **kwargs)\n",
        "\n",
        "  video = BiliVideo(id=\"BV1XK4y1s7KF\", width=854, height=480, fs=1)\n",
        "  print('Video available at https://www.bilibili.com/video/{0}'.format(video.id))\n",
        "  display(video)\n",
        "\n",
        "out1 = widgets.Output()\n",
        "with out1:\n",
        "  from IPython.display import YouTubeVideo\n",
        "  video = YouTubeVideo(id=\"ZCUhW26AdBQ\", width=854, height=480, fs=1, rel=0)\n",
        "  print('Video available at https://youtube.com/watch?v=' + video.id)\n",
        "  display(video)\n",
        "\n",
        "out = widgets.Tab([out1, out2])\n",
        "out.set_title(0, 'Youtube')\n",
        "out.set_title(1, 'Bilibili')\n",
        "\n",
        "display(out)"
      ]
    },
    {
      "cell_type": "markdown",
      "metadata": {
        "execution": {},
        "id": "IjcgrnFP1SWa"
      },
      "source": [
        "Now we have seen that the top 100 or so principal components of the data can explain most of the variance. We can use this fact to perform *dimensionality reduction*, i.e., by storing the data using only 100 components rather than the samples of all 784 pixels. Remarkably, we will be able to reconstruct much of the structure of the data using only the top 100 components. To see this, recall that to perform PCA we projected the data $\\bf X$ onto the eigenvectors of the covariance matrix:\n",
        "\n",
        "\\begin{equation}\n",
        "\\bf S = X W\n",
        "\\end{equation}\n",
        "\n",
        "Since $\\bf W$ is an orthogonal matrix, ${\\bf W}^{-1} = {\\bf W}^\\top$. So by multiplying by ${\\bf W}^\\top$ on each side we can rewrite this equation as  \n",
        "\n",
        "\\begin{equation}\n",
        "{\\bf X = S W}^\\top.\n",
        "\\end{equation}\n",
        "\n",
        "This now gives us a way to reconstruct the data matrix from the scores and loadings. To reconstruct the data from a low-dimensional approximation, we just have to truncate these matrices.  Let's denote ${\\bf S}_{1:K}$ and ${\\bf W}_{1:K}$ the matrices with only the first $K$ columns of $\\bf S$ and $\\bf W$, respectively. Then our reconstruction is:\n",
        "\n",
        "\\begin{equation}\n",
        "{\\bf \\hat X = S}_{1:K} ({\\bf W}_{1:K})^\\top.\n",
        "\\end{equation}"
      ]
    },
    {
      "cell_type": "markdown",
      "metadata": {
        "execution": {},
        "id": "OpvyNQpS1SWa"
      },
      "source": [
        "## Coding Exercise 3: Data reconstruction\n",
        "\n",
        "Fill in the function below to reconstruct the data using different numbers of principal components. \n",
        "\n",
        "**Steps:**\n",
        "\n",
        "* Fill in the following function to reconstruct the data based on the weights and scores. Don't forget to add the mean!\n",
        "* Make sure your function works by reconstructing the data with all $K=784$ components. The two images should look identical."
      ]
    },
    {
      "cell_type": "code",
      "execution_count": 14,
      "metadata": {
        "execution": {},
        "id": "1pkW2llr1SWa",
        "outputId": "87a19d0b-3c96-4eae-d19c-0ef7b264f0e2",
        "colab": {
          "base_uri": "https://localhost:8080/",
          "height": 309
        }
      },
      "outputs": [
        {
          "output_type": "display_data",
          "data": {
            "text/plain": [
              "<Figure size 576x432 with 2 Axes>"
            ],
            "image/png": "[encoded data removed]"
          },
          "metadata": {
            "image/png": {
              "width": 558,
              "height": 292
            }
          }
        }
      ],
      "source": [
        "def reconstruct_data(score, evectors, X_mean, K):\n",
        "  \"\"\"\n",
        "  Reconstruct the data based on the top K components.\n",
        "\n",
        "  Args:\n",
        "    score (numpy array of floats)    : Score matrix\n",
        "    evectors (numpy array of floats) : Matrix of eigenvectors\n",
        "    X_mean (numpy array of floats)   : Vector corresponding to data mean\n",
        "    K (scalar)                       : Number of components to include\n",
        "\n",
        "  Returns:\n",
        "    (numpy array of floats)          : Matrix of reconstructed data\n",
        "\n",
        "  \"\"\"\n",
        "\n",
        "  #################################################\n",
        "  ## TO DO for students: Reconstruct the original data in X_reconstructed\n",
        "  # Comment once you've filled in the function\n",
        "  # raise NotImplementedError(\"Student exercise: reconstructing data function!\")\n",
        "  #################################################\n",
        "\n",
        "  # Reconstruct the data from the score and eigenvectors\n",
        "  # Don't forget to add the mean!!\n",
        "  X_reconstructed =  score[:, :K] @ evectors[:, :K].T + X_mean\n",
        "\n",
        "  return X_reconstructed\n",
        "\n",
        "\n",
        "K = 784\n",
        "\n",
        "# Reconstruct the data based on all components\n",
        "X_mean = np.mean(X, 0)\n",
        "X_reconstructed = reconstruct_data(score, evectors, X_mean, K)\n",
        "\n",
        "# Plot the data and reconstruction\n",
        "plot_MNIST_reconstruction(X, X_reconstructed)"
      ]
    },
    {
      "cell_type": "markdown",
      "metadata": {
        "execution": {},
        "id": "1ZqQ08v-1SWa"
      },
      "source": [
        "[*Click for solution*](https://github.com/NeuromatchAcademy/course-content/tree/main//tutorials/W1D4_DimensionalityReduction/solutions/W1D4_Tutorial3_Solution_e3395916.py)\n",
        "\n",
        "*Example output:*\n",
        "\n",
        "<img alt='Solution hint' align='left' width=849.0 height=451.0 src=https://raw.githubusercontent.com/NeuromatchAcademy/course-content/main/tutorials/W1D4_DimensionalityReduction/static/W1D4_Tutorial3_Solution_e3395916_0.png>\n",
        "\n"
      ]
    },
    {
      "cell_type": "markdown",
      "metadata": {
        "execution": {},
        "id": "m7gS0dCi1SWa"
      },
      "source": [
        "## Interactive Demo 3: Reconstruct the data matrix using different numbers of PCs\n",
        "\n",
        "Now run the code below and experiment with the slider to reconstruct the data matrix using different numbers of principal components.\n",
        "\n",
        "1.  How many principal components are necessary to reconstruct the numbers (by eye)? How does this relate to the intrinsic dimensionality of the data?\n",
        "2.  Do you see any information in the data with only a single principal component?"
      ]
    },
    {
      "cell_type": "code",
      "execution_count": 15,
      "metadata": {
        "cellView": "form",
        "execution": {},
        "id": "aX02HLle1SWa",
        "outputId": "43e998d3-4db2-4732-cc0d-6e9b88036599",
        "colab": {
          "base_uri": "https://localhost:8080/",
          "height": 341,
          "referenced_widgets": [
            "4f59ff017ef74ad9b03d90dc6cc1205b",
            "96d25875fab4425484a353360e88c598",
            "46f88758d51a4a7eb781b68456484765",
            "d83d6399529e40c98b546803dca78e0c",
            "81a8713db8a24317ab20c766523290cd",
            "55ca7759a0d54134b271e567649cd374",
            "7b2b3a51a7f54ed89c1009c99484ab8a"
          ]
        }
      },
      "outputs": [
        {
          "output_type": "display_data",
          "data": {
            "text/plain": [
              "interactive(children=(IntSlider(value=100, description='K', max=784, min=1, step=10), Output()), _dom_classes=…"
            ],
            "application/vnd.jupyter.widget-view+json": {
              "version_major": 2,
              "version_minor": 0,
              "model_id": "4f59ff017ef74ad9b03d90dc6cc1205b"
            }
          },
          "metadata": {}
        }
      ],
      "source": [
        "# @title\n",
        "\n",
        "# @markdown Make sure you execute this cell to enable the widget!\n",
        "\n",
        "\n",
        "def refresh(K=100):\n",
        "  X_reconstructed = reconstruct_data(score, evectors, X_mean, K)\n",
        "  plot_MNIST_reconstruction(X, X_reconstructed)\n",
        "  plt.title('Reconstructed, K={}'.format(K))\n",
        "\n",
        "\n",
        "_ = widgets.interact(refresh, K=(1, 784, 10))"
      ]
    },
    {
      "cell_type": "markdown",
      "metadata": {
        "execution": {},
        "id": "K9i6FCjq1SWa"
      },
      "source": [
        "[*Click for solution*](https://github.com/NeuromatchAcademy/course-content/tree/main//tutorials/W1D4_DimensionalityReduction/solutions/W1D4_Tutorial3_Solution_f041ae81.py)\n",
        "\n"
      ]
    },
    {
      "cell_type": "markdown",
      "metadata": {
        "execution": {},
        "id": "uO_SGrkW1SWa"
      },
      "source": [
        "---\n",
        "# Section 4: Visualize PCA components\n",
        "\n",
        "*Estimated timing to here from start of tutorial: 40 min*"
      ]
    },
    {
      "cell_type": "markdown",
      "metadata": {
        "execution": {},
        "id": "EUImSCHl1SWb"
      },
      "source": [
        "## Coding Exercise 4: Visualization of the weights\n",
        "\n",
        "Next, let's take a closer look at the first principal component by visualizing its corresponding weights. \n",
        "\n",
        "**Steps:**\n",
        "\n",
        "* Enter `plot_MNIST_weights` to visualize the weights of the first basis vector.\n",
        "* What structure do you see? Which pixels have a strong positive weighting? Which have a strong negative weighting? What kinds of images would this basis vector differentiate (hint: think about the last demo with 1 component)?\n",
        "* Try visualizing the second and third basis vectors. Do you see any structure? What about the 100th basis vector? 500th? 700th?"
      ]
    },
    {
      "cell_type": "code",
      "execution_count": 16,
      "metadata": {
        "execution": {},
        "id": "IfOSwsEV1SWb",
        "outputId": "5eff1249-8cae-43d4-f478-5a8f8c7acaf3",
        "colab": {
          "base_uri": "https://localhost:8080/"
        }
      },
      "outputs": [
        {
          "output_type": "stream",
          "name": "stdout",
          "text": [
            "Help on function plot_MNIST_weights in module __main__:\n",
            "\n",
            "plot_MNIST_weights(weights)\n",
            "    Visualize PCA basis vector weights for MNIST. Red = positive weights,\n",
            "    blue = negative weights, white = zero weight.\n",
            "    \n",
            "    Args:\n",
            "       weights (numpy array of floats) : PCA basis vector\n",
            "    \n",
            "    Returns:\n",
            "       Nothing.\n",
            "\n"
          ]
        }
      ],
      "source": [
        "help(plot_MNIST_weights)"
      ]
    },
    {
      "cell_type": "code",
      "execution_count": 23,
      "metadata": {
        "execution": {},
        "id": "rkztOzxX1SWb",
        "outputId": "3d7785e4-cdce-458d-b34f-88f43007c8d1",
        "colab": {
          "base_uri": "https://localhost:8080/",
          "height": 431
        }
      },
      "outputs": [
        {
          "output_type": "display_data",
          "data": {
            "text/plain": [
              "<Figure size 576x432 with 2 Axes>"
            ],
            "image/png": "[encoded data removed]"
          },
          "metadata": {
            "image/png": {
              "width": 500,
              "height": 414
            },
            "needs_background": "light"
          }
        }
      ],
      "source": [
        "################################################################\n",
        "# Comment once you've filled in the function\n",
        "# raise NotImplementedError(\"Student exercise: visualize PCA components\")\n",
        "################################################################\n",
        "\n",
        "# Plot the weights of the first principal component\n",
        "plot_MNIST_weights(evectors[:, 0])"
      ]
    },
    {
      "cell_type": "markdown",
      "metadata": {
        "execution": {},
        "id": "U8pKxFt81SWb"
      },
      "source": [
        "[*Click for solution*](https://github.com/NeuromatchAcademy/course-content/tree/main//tutorials/W1D4_DimensionalityReduction/solutions/W1D4_Tutorial3_Solution_d27990ad.py)\n",
        "\n",
        "*Example output:*\n",
        "\n",
        "<img alt='Solution hint' align='left' width=682.0 height=544.0 src=https://raw.githubusercontent.com/NeuromatchAcademy/course-content/main/tutorials/W1D4_DimensionalityReduction/static/W1D4_Tutorial3_Solution_d27990ad_0.png>\n",
        "\n"
      ]
    },
    {
      "cell_type": "markdown",
      "metadata": {
        "execution": {},
        "id": "Tqgan_i31SWb"
      },
      "source": [
        "---\n",
        "# Summary\n",
        "\n",
        "*Estimated timing of tutorial: 50 minutes*\n",
        "\n",
        "* In this tutorial, we learned how to use PCA for dimensionality reduction by selecting the top principal components. This can be useful as the intrinsic dimensionality ($K$) is often less than the extrinsic dimensionality ($N$) in neural data. $K$ can be inferred by choosing the number of eigenvalues necessary to capture some fraction of the variance.\n",
        "* We also learned how to reconstruct an approximation of the original data using the top $K$ principal components. In fact, an alternate formulation of PCA is to find the $K$ dimensional space that minimizes the reconstruction error.\n",
        "* Noise tends to inflate the apparent intrinsic dimensionality, however the higher components reflect noise rather than new structure in the data. PCA can be used for denoising data by removing noisy higher components.\n",
        "* In MNIST, the weights corresponding to the first principal component appear to discriminate between a 0 and 1. We will discuss the implications of this for data visualization in the following tutorial."
      ]
    },
    {
      "cell_type": "markdown",
      "metadata": {
        "execution": {},
        "id": "Ph8CNgZ51SWb"
      },
      "source": [
        "---\n",
        "# Notation\n",
        "\n",
        "\\begin{align}\n",
        "K &\\quad \\text{selected number of principal components}\\\\\n",
        "N &\\quad \\text{total number of principal components}\\\\\n",
        "\\bf W &\\quad \\text{weights, loadings matrix}\\\\\n",
        "{\\bf X} &\\quad \\text{original data matrix}\\\\\n",
        "\\bf S &\\quad \\text{projected matrix, scores}\\\\\n",
        "{\\bf S}_{1:K} &\\quad \\text{first K columns of score matrix } \\bf S\\\\\n",
        "{\\bf W}_{1:K} &\\quad \\text{first K columns of weight matrix } \\bf W\\\\\n",
        "\\end{align}"
      ]
    },
    {
      "cell_type": "markdown",
      "metadata": {
        "execution": {},
        "id": "qXDRh5t01SWb"
      },
      "source": [
        "---\n",
        "# Bonus"
      ]
    },
    {
      "cell_type": "markdown",
      "metadata": {
        "execution": {},
        "id": "ilLYJPuL1SWb"
      },
      "source": [
        "---\n",
        "## Bonus Section 1: Examine denoising using PCA\n",
        "\n",
        "In this lecture, we saw that PCA finds an optimal low-dimensional basis to minimize the reconstruction error. Because of this property, PCA can be useful for denoising corrupted samples of the data."
      ]
    },
    {
      "cell_type": "markdown",
      "metadata": {
        "execution": {},
        "id": "gNhycSqk1SWc"
      },
      "source": [
        "### Bonus Coding Exercise 1: Add noise to the data\n",
        "In this exercise you will add salt-and-pepper noise to the original data and see how that affects the eigenvalues. \n",
        "\n",
        "**Steps:**\n",
        "- Use the function `add_noise` to add noise to 20% of the pixels.\n",
        "- Then, perform PCA and plot the variance explained. How many principal components are required to explain 90% of the variance? How does this compare to the original data? \n"
      ]
    },
    {
      "cell_type": "code",
      "execution_count": null,
      "metadata": {
        "execution": {},
        "id": "m3ctlB711SWc"
      },
      "outputs": [],
      "source": [
        "help(add_noise)"
      ]
    },
    {
      "cell_type": "code",
      "execution_count": null,
      "metadata": {
        "execution": {},
        "id": "sGxqlI281SWc"
      },
      "outputs": [],
      "source": [
        "#################################################\n",
        "## TO DO for students\n",
        "# Comment once you've filled in the function\n",
        "raise NotImplementedError(\"Student exercise: make MNIST noisy and compute PCA!\")\n",
        "#################################################\n",
        "\n",
        "np.random.seed(2020)  # set random seed\n",
        "\n",
        "# Add noise to data\n",
        "X_noisy = ...\n",
        "\n",
        "# Perform PCA on noisy data\n",
        "score_noisy, evectors_noisy, evals_noisy = ...\n",
        "\n",
        "# Compute variance explained\n",
        "variance_explained_noisy = ...\n",
        "\n",
        "# Visualize\n",
        "plot_MNIST_sample(X_noisy)\n",
        "plot_variance_explained(variance_explained_noisy)"
      ]
    },
    {
      "cell_type": "markdown",
      "metadata": {
        "execution": {},
        "id": "m4f0N4Bp1SWc"
      },
      "source": [
        "[*Click for solution*](https://github.com/NeuromatchAcademy/course-content/tree/main//tutorials/W1D4_DimensionalityReduction/solutions/W1D4_Tutorial3_Solution_9615a6cd.py)\n",
        "\n"
      ]
    },
    {
      "cell_type": "markdown",
      "metadata": {
        "execution": {},
        "id": "es0DJK2d1SWc"
      },
      "source": [
        "### Bonus Coding Exercise 2: Denoising\n",
        "\n",
        "Next, use PCA to perform denoising by projecting the noise-corrupted data onto the basis vectors found from the original dataset. By taking the top K components of this projection, we can reduce noise in dimensions orthogonal to the K-dimensional latent space. \n",
        "\n",
        "**Steps:**\n",
        "- Subtract the mean of the noise-corrupted data.\n",
        "- Project the data onto the basis found with the original dataset (`evectors`, not `evectors_noisy`) and take the top $K$ components. \n",
        "- Reconstruct the data as normal, using the top 50 components. \n",
        "- Play around with the amount of noise and K to build intuition.\n"
      ]
    },
    {
      "cell_type": "code",
      "execution_count": null,
      "metadata": {
        "execution": {},
        "id": "q4TeZ3hu1SWc"
      },
      "outputs": [],
      "source": [
        "#################################################\n",
        "## TO DO for students\n",
        "# Comment once you've filled in the function\n",
        "raise NotImplementedError(\"Student exercise: reconstruct noisy data from PCA\")\n",
        "#################################################\n",
        "\n",
        "np.random.seed(2020)  # set random seed\n",
        "\n",
        "# Add noise to data\n",
        "X_noisy = ...\n",
        "\n",
        "# Compute mean of noise-corrupted data\n",
        "X_noisy_mean = ...\n",
        "\n",
        "# Project onto the original basis vectors\n",
        "projX_noisy = ...\n",
        "\n",
        "# Reconstruct the data using the top 50 components\n",
        "X_reconstructed = ...\n",
        "\n",
        "# Visualize\n",
        "plot_MNIST_reconstruction(X_noisy, X_reconstructed)"
      ]
    },
    {
      "cell_type": "markdown",
      "metadata": {
        "execution": {},
        "id": "Dw5ZsA-p1SWd"
      },
      "source": [
        "[*Click for solution*](https://github.com/NeuromatchAcademy/course-content/tree/main//tutorials/W1D4_DimensionalityReduction/solutions/W1D4_Tutorial3_Solution_38d38d89.py)\n",
        "\n",
        "*Example output:*\n",
        "\n",
        "<img alt='Solution hint' align='left' width=849.0 height=451.0 src=https://raw.githubusercontent.com/NeuromatchAcademy/course-content/main/tutorials/W1D4_DimensionalityReduction/static/W1D4_Tutorial3_Solution_38d38d89_0.png>\n",
        "\n"
      ]
    }
  ],
  "metadata": {
    "colab": {
      "collapsed_sections": [
        "NgVDJxt9fWm9",
        "KXKX7e8hfWnB"
      ],
      "name": "W1D4_Tutorial3",
      "provenance": [],
      "toc_visible": true,
      "include_colab_link": true
    },
    "kernel": {
      "display_name": "Python 3",
      "language": "python",
      "name": "python3"
    },
    "kernelspec": {
      "display_name": "Python 3",
      "language": "python",
      "name": "python3"
    },
    "language_info": {
      "codemirror_mode": {
        "name": "ipython",
        "version": 3
      },
      "file_extension": ".py",
      "mimetype": "text/x-python",
      "name": "python",
      "nbconvert_exporter": "python",
      "pygments_lexer": "ipython3",
      "version": "3.7.13"
    },
    "widgets": {
      "application/vnd.jupyter.widget-state+json": {
        "b13371b478934f19b7ccb13c896c1969": {
          "model_module": "@jupyter-widgets/controls",
          "model_name": "TabModel",
          "model_module_version": "1.5.0",
          "state": {
            "_dom_classes": [],
            "_model_module": "@jupyter-widgets/controls",
            "_model_module_version": "1.5.0",
            "_model_name": "TabModel",
            "_titles": {
              "0": "Youtube",
              "1": "Bilibili"
            },
            "_view_count": null,
            "_view_module": "@jupyter-widgets/controls",
            "_view_module_version": "1.5.0",
            "_view_name": "TabView",
            "box_style": "",
            "children": [
              "IPY_MODEL_3a3f1cd1ef0549c69346777acc3182e1",
              "IPY_MODEL_70f77028507e489c860b57dac26d32c8"
            ],
            "layout": "IPY_MODEL_7db37f306ca74f65ae9ca58f8f8215b9",
            "selected_index": 0
          }
        },
        "3a3f1cd1ef0549c69346777acc3182e1": {
          "model_module": "@jupyter-widgets/output",
          "model_name": "OutputModel",
          "model_module_version": "1.0.0",
          "state": {
            "_dom_classes": [],
            "_model_module": "@jupyter-widgets/output",
            "_model_module_version": "1.0.0",
            "_model_name": "OutputModel",
            "_view_count": null,
            "_view_module": "@jupyter-widgets/output",
            "_view_module_version": "1.0.0",
            "_view_name": "OutputView",
            "layout": "IPY_MODEL_1c8942dbc3d5414393161692a4cd29b5",
            "msg_id": "",
            "outputs": [
              {
                "output_type": "stream",
                "name": "stdout",
                "text": [
                  "Video available at https://youtube.com/watch?v=oO0bbInoO_0\n"
                ]
              },
              {
                "output_type": "display_data",
                "data": {
                  "text/plain": "<IPython.lib.display.YouTubeVideo at 0x7f3fe9996e90>",
                  "text/html": "\n        <iframe\n            width=\"854\"\n            height=\"480\"\n            src=\"https://www.youtube.com/embed/oO0bbInoO_0?fs=1&rel=0\"\n            frameborder=\"0\"\n            allowfullscreen\n        ></iframe>\n        ",
                  "image/jpeg": "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\n"
                },
                "metadata": {}
              }
            ]
          }
        },
        "70f77028507e489c860b57dac26d32c8": {
          "model_module": "@jupyter-widgets/output",
          "model_name": "OutputModel",
          "model_module_version": "1.0.0",
          "state": {
            "_dom_classes": [],
            "_model_module": "@jupyter-widgets/output",
            "_model_module_version": "1.0.0",
            "_model_name": "OutputModel",
            "_view_count": null,
            "_view_module": "@jupyter-widgets/output",
            "_view_module_version": "1.0.0",
            "_view_name": "OutputView",
            "layout": "IPY_MODEL_26f8b850c0914902a80f15a5232fec7e",
            "msg_id": "",
            "outputs": [
              {
                "output_type": "stream",
                "name": "stdout",
                "text": [
                  "Video available at https://www.bilibili.com/video/BV1up4y1S7xs\n"
                ]
              },
              {
                "output_type": "display_data",
                "data": {
                  "text/plain": "<__main__.BiliVideo at 0x7f3fe9996950>",
                  "text/html": "\n        <iframe\n            width=\"854\"\n            height=\"480\"\n            src=\"https://player.bilibili.com/player.html?bvid=BV1up4y1S7xs&page=1?fs=1\"\n            frameborder=\"0\"\n            allowfullscreen\n        ></iframe>\n        "
                },
                "metadata": {}
              }
            ]
          }
        },
        "7db37f306ca74f65ae9ca58f8f8215b9": {
          "model_module": "@jupyter-widgets/base",
          "model_name": "LayoutModel",
          "model_module_version": "1.2.0",
          "state": {
            "_model_module": "@jupyter-widgets/base",
            "_model_module_version": "1.2.0",
            "_model_name": "LayoutModel",
            "_view_count": null,
            "_view_module": "@jupyter-widgets/base",
            "_view_module_version": "1.2.0",
            "_view_name": "LayoutView",
            "align_content": null,
            "align_items": null,
            "align_self": null,
            "border": null,
            "bottom": null,
            "display": null,
            "flex": null,
            "flex_flow": null,
            "grid_area": null,
            "grid_auto_columns": null,
            "grid_auto_flow": null,
            "grid_auto_rows": null,
            "grid_column": null,
            "grid_gap": null,
            "grid_row": null,
            "grid_template_areas": null,
            "grid_template_columns": null,
            "grid_template_rows": null,
            "height": null,
            "justify_content": null,
            "justify_items": null,
            "left": null,
            "margin": null,
            "max_height": null,
            "max_width": null,
            "min_height": null,
            "min_width": null,
            "object_fit": null,
            "object_position": null,
            "order": null,
            "overflow": null,
            "overflow_x": null,
            "overflow_y": null,
            "padding": null,
            "right": null,
            "top": null,
            "visibility": null,
            "width": null
          }
        },
        "1c8942dbc3d5414393161692a4cd29b5": {
          "model_module": "@jupyter-widgets/base",
          "model_name": "LayoutModel",
          "model_module_version": "1.2.0",
          "state": {
            "_model_module": "@jupyter-widgets/base",
            "_model_module_version": "1.2.0",
            "_model_name": "LayoutModel",
            "_view_count": null,
            "_view_module": "@jupyter-widgets/base",
            "_view_module_version": "1.2.0",
            "_view_name": "LayoutView",
            "align_content": null,
            "align_items": null,
            "align_self": null,
            "border": null,
            "bottom": null,
            "display": null,
            "flex": null,
            "flex_flow": null,
            "grid_area": null,
            "grid_auto_columns": null,
            "grid_auto_flow": null,
            "grid_auto_rows": null,
            "grid_column": null,
            "grid_gap": null,
            "grid_row": null,
            "grid_template_areas": null,
            "grid_template_columns": null,
            "grid_template_rows": null,
            "height": null,
            "justify_content": null,
            "justify_items": null,
            "left": null,
            "margin": null,
            "max_height": null,
            "max_width": null,
            "min_height": null,
            "min_width": null,
            "object_fit": null,
            "object_position": null,
            "order": null,
            "overflow": null,
            "overflow_x": null,
            "overflow_y": null,
            "padding": null,
            "right": null,
            "top": null,
            "visibility": null,
            "width": null
          }
        },
        "26f8b850c0914902a80f15a5232fec7e": {
          "model_module": "@jupyter-widgets/base",
          "model_name": "LayoutModel",
          "model_module_version": "1.2.0",
          "state": {
            "_model_module": "@jupyter-widgets/base",
            "_model_module_version": "1.2.0",
            "_model_name": "LayoutModel",
            "_view_count": null,
            "_view_module": "@jupyter-widgets/base",
            "_view_module_version": "1.2.0",
            "_view_name": "LayoutView",
            "align_content": null,
            "align_items": null,
            "align_self": null,
            "border": null,
            "bottom": null,
            "display": null,
            "flex": null,
            "flex_flow": null,
            "grid_area": null,
            "grid_auto_columns": null,
            "grid_auto_flow": null,
            "grid_auto_rows": null,
            "grid_column": null,
            "grid_gap": null,
            "grid_row": null,
            "grid_template_areas": null,
            "grid_template_columns": null,
            "grid_template_rows": null,
            "height": null,
            "justify_content": null,
            "justify_items": null,
            "left": null,
            "margin": null,
            "max_height": null,
            "max_width": null,
            "min_height": null,
            "min_width": null,
            "object_fit": null,
            "object_position": null,
            "order": null,
            "overflow": null,
            "overflow_x": null,
            "overflow_y": null,
            "padding": null,
            "right": null,
            "top": null,
            "visibility": null,
            "width": null
          }
        },
        "4f59ff017ef74ad9b03d90dc6cc1205b": {
          "model_module": "@jupyter-widgets/controls",
          "model_name": "VBoxModel",
          "model_module_version": "1.5.0",
          "state": {
            "_dom_classes": [
              "widget-interact"
            ],
            "_model_module": "@jupyter-widgets/controls",
            "_model_module_version": "1.5.0",
            "_model_name": "VBoxModel",
            "_view_count": null,
            "_view_module": "@jupyter-widgets/controls",
            "_view_module_version": "1.5.0",
            "_view_name": "VBoxView",
            "box_style": "",
            "children": [
              "IPY_MODEL_96d25875fab4425484a353360e88c598",
              "IPY_MODEL_46f88758d51a4a7eb781b68456484765"
            ],
            "layout": "IPY_MODEL_d83d6399529e40c98b546803dca78e0c"
          }
        },
        "96d25875fab4425484a353360e88c598": {
          "model_module": "@jupyter-widgets/controls",
          "model_name": "IntSliderModel",
          "model_module_version": "1.5.0",
          "state": {
            "_dom_classes": [],
            "_model_module": "@jupyter-widgets/controls",
            "_model_module_version": "1.5.0",
            "_model_name": "IntSliderModel",
            "_view_count": null,
            "_view_module": "@jupyter-widgets/controls",
            "_view_module_version": "1.5.0",
            "_view_name": "IntSliderView",
            "continuous_update": true,
            "description": "K",
            "description_tooltip": null,
            "disabled": false,
            "layout": "IPY_MODEL_81a8713db8a24317ab20c766523290cd",
            "max": 784,
            "min": 1,
            "orientation": "horizontal",
            "readout": true,
            "readout_format": "d",
            "step": 10,
            "style": "IPY_MODEL_55ca7759a0d54134b271e567649cd374",
            "value": 391
          }
        },
        "46f88758d51a4a7eb781b68456484765": {
          "model_module": "@jupyter-widgets/output",
          "model_name": "OutputModel",
          "model_module_version": "1.0.0",
          "state": {
            "_dom_classes": [],
            "_model_module": "@jupyter-widgets/output",
            "_model_module_version": "1.0.0",
            "_model_name": "OutputModel",
            "_view_count": null,
            "_view_module": "@jupyter-widgets/output",
            "_view_module_version": "1.0.0",
            "_view_name": "OutputView",
            "layout": "IPY_MODEL_7b2b3a51a7f54ed89c1009c99484ab8a",
            "msg_id": "",
            "outputs": [
              {
                "output_type": "display_data",
                "data": {
                  "text/plain": "<Figure size 576x432 with 2 Axes>",
                  "image/png": "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\n"
                },
                "metadata": {
                  "image/png": {
                    "width": 558,
                    "height": 292
                  }
                }
              }
            ]
          }
        },
        "d83d6399529e40c98b546803dca78e0c": {
          "model_module": "@jupyter-widgets/base",
          "model_name": "LayoutModel",
          "model_module_version": "1.2.0",
          "state": {
            "_model_module": "@jupyter-widgets/base",
            "_model_module_version": "1.2.0",
            "_model_name": "LayoutModel",
            "_view_count": null,
            "_view_module": "@jupyter-widgets/base",
            "_view_module_version": "1.2.0",
            "_view_name": "LayoutView",
            "align_content": null,
            "align_items": null,
            "align_self": null,
            "border": null,
            "bottom": null,
            "display": null,
            "flex": null,
            "flex_flow": null,
            "grid_area": null,
            "grid_auto_columns": null,
            "grid_auto_flow": null,
            "grid_auto_rows": null,
            "grid_column": null,
            "grid_gap": null,
            "grid_row": null,
            "grid_template_areas": null,
            "grid_template_columns": null,
            "grid_template_rows": null,
            "height": null,
            "justify_content": null,
            "justify_items": null,
            "left": null,
            "margin": null,
            "max_height": null,
            "max_width": null,
            "min_height": null,
            "min_width": null,
            "object_fit": null,
            "object_position": null,
            "order": null,
            "overflow": null,
            "overflow_x": null,
            "overflow_y": null,
            "padding": null,
            "right": null,
            "top": null,
            "visibility": null,
            "width": null
          }
        },
        "81a8713db8a24317ab20c766523290cd": {
          "model_module": "@jupyter-widgets/base",
          "model_name": "LayoutModel",
          "model_module_version": "1.2.0",
          "state": {
            "_model_module": "@jupyter-widgets/base",
            "_model_module_version": "1.2.0",
            "_model_name": "LayoutModel",
            "_view_count": null,
            "_view_module": "@jupyter-widgets/base",
            "_view_module_version": "1.2.0",
            "_view_name": "LayoutView",
            "align_content": null,
            "align_items": null,
            "align_self": null,
            "border": null,
            "bottom": null,
            "display": null,
            "flex": null,
            "flex_flow": null,
            "grid_area": null,
            "grid_auto_columns": null,
            "grid_auto_flow": null,
            "grid_auto_rows": null,
            "grid_column": null,
            "grid_gap": null,
            "grid_row": null,
            "grid_template_areas": null,
            "grid_template_columns": null,
            "grid_template_rows": null,
            "height": null,
            "justify_content": null,
            "justify_items": null,
            "left": null,
            "margin": null,
            "max_height": null,
            "max_width": null,
            "min_height": null,
            "min_width": null,
            "object_fit": null,
            "object_position": null,
            "order": null,
            "overflow": null,
            "overflow_x": null,
            "overflow_y": null,
            "padding": null,
            "right": null,
            "top": null,
            "visibility": null,
            "width": null
          }
        },
        "55ca7759a0d54134b271e567649cd374": {
          "model_module": "@jupyter-widgets/controls",
          "model_name": "SliderStyleModel",
          "model_module_version": "1.5.0",
          "state": {
            "_model_module": "@jupyter-widgets/controls",
            "_model_module_version": "1.5.0",
            "_model_name": "SliderStyleModel",
            "_view_count": null,
            "_view_module": "@jupyter-widgets/base",
            "_view_module_version": "1.2.0",
            "_view_name": "StyleView",
            "description_width": "",
            "handle_color": null
          }
        },
        "7b2b3a51a7f54ed89c1009c99484ab8a": {
          "model_module": "@jupyter-widgets/base",
          "model_name": "LayoutModel",
          "model_module_version": "1.2.0",
          "state": {
            "_model_module": "@jupyter-widgets/base",
            "_model_module_version": "1.2.0",
            "_model_name": "LayoutModel",
            "_view_count": null,
            "_view_module": "@jupyter-widgets/base",
            "_view_module_version": "1.2.0",
            "_view_name": "LayoutView",
            "align_content": null,
            "align_items": null,
            "align_self": null,
            "border": null,
            "bottom": null,
            "display": null,
            "flex": null,
            "flex_flow": null,
            "grid_area": null,
            "grid_auto_columns": null,
            "grid_auto_flow": null,
            "grid_auto_rows": null,
            "grid_column": null,
            "grid_gap": null,
            "grid_row": null,
            "grid_template_areas": null,
            "grid_template_columns": null,
            "grid_template_rows": null,
            "height": null,
            "justify_content": null,
            "justify_items": null,
            "left": null,
            "margin": null,
            "max_height": null,
            "max_width": null,
            "min_height": null,
            "min_width": null,
            "object_fit": null,
            "object_position": null,
            "order": null,
            "overflow": null,
            "overflow_x": null,
            "overflow_y": null,
            "padding": null,
            "right": null,
            "top": null,
            "visibility": null,
            "width": null
          }
        }
      }
    }
  },
  "nbformat": 4,
  "nbformat_minor": 0
}