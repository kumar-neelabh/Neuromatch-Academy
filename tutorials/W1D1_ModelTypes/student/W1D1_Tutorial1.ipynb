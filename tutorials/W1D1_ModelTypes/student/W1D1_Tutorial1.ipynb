{
  "cells": [
    {
      "cell_type": "markdown",
      "metadata": {
        "id": "view-in-github",
        "colab_type": "text"
      },
      "source": [
        "<a href=\"https://colab.research.google.com/github/kumar-neelabh/Neuromatch-Academy/blob/main/tutorials/W1D1_ModelTypes/student/W1D1_Tutorial1.ipynb\" target=\"_parent\"><img src=\"https://colab.research.google.com/assets/colab-badge.svg\" alt=\"Open In Colab\"/></a>"
      ]
    },
    {
      "cell_type": "markdown",
      "metadata": {
        "execution": {},
        "id": "Lz8-WdD--wWn"
      },
      "source": [
        "# Tutorial 1: \"What\" models\n",
        "**Week 1, Day 1: Model Types**\n",
        "\n",
        "**By Neuromatch Academy**\n",
        "\n",
        "__Content creators:__ Matt Laporte, Byron Galbraith, Konrad Kording\n",
        "\n",
        "__Content reviewers:__ Dalin Guo, Aishwarya Balwani, Madineh Sarvestani, Maryam Vaziri-Pashkam, Michael Waskom, Ella Batty\n",
        "\n",
        "__Post-production team:__ Gagana B, Spiros Chavlis\n",
        "\n",
        "We would like to acknowledge [Steinmetz _et al._ (2019)](https://www.nature.com/articles/s41586-019-1787-x) for sharing their data, a subset of which is used here.\n"
      ]
    },
    {
      "cell_type": "markdown",
      "metadata": {
        "execution": {},
        "id": "tvg7oNSK-wW6"
      },
      "source": [
        "<p align='center'><img src='https://github.com/NeuromatchAcademy/widgets/blob/master/sponsors.png?raw=True'/></p>"
      ]
    },
    {
      "cell_type": "markdown",
      "metadata": {
        "execution": {},
        "id": "AwnwDNAC-wW8"
      },
      "source": [
        "___\n",
        "# Tutorial Objectives\n",
        "\n",
        "*Estimated timing of tutorial: 50 minutes*\n",
        "\n",
        "This is tutorial 1 of a 3-part series on different flavors of models used to understand neural data. In this tutorial we will explore 'What' models, used to describe the data. To understand what our data looks like, we will visualize it in different ways. Then we will compare it to simple mathematical models. Specifically, we will:\n",
        "\n",
        "- Load a dataset with spiking activity from hundreds of neurons and understand how it is organized\n",
        "- Make plots to visualize characteristics of the spiking activity across the population\n",
        "- Compute the distribution of \"inter-spike intervals\" (ISIs) for a single neuron\n",
        "- Consider several formal models of this distribution's shape and fit them to the data \"by hand\""
      ]
    },
    {
      "cell_type": "code",
      "execution_count": 1,
      "metadata": {
        "cellView": "form",
        "execution": {},
        "id": "zyeiIhas-wW-",
        "outputId": "dbb9b674-3fc6-42c2-bea9-f5ac864b42e5",
        "colab": {
          "base_uri": "https://localhost:8080/",
          "height": 502
        }
      },
      "outputs": [
        {
          "output_type": "execute_result",
          "data": {
            "text/plain": [
              "<IPython.lib.display.IFrame at 0x7feec9206c10>"
            ],
            "text/html": [
              "\n",
              "        <iframe\n",
              "            width=\"854\"\n",
              "            height=\"480\"\n",
              "            src=\"https://mfr.ca-1.osf.io/render?url=https://osf.io/6dxwe/?direct%26mode=render%26action=download%26mode=render\"\n",
              "            frameborder=\"0\"\n",
              "            allowfullscreen\n",
              "        ></iframe>\n",
              "        "
            ]
          },
          "metadata": {},
          "execution_count": 1
        }
      ],
      "source": [
        "# @title Tutorial slides\n",
        "\n",
        "# @markdown These are the slides for the videos in all tutorials today\n",
        "from IPython.display import IFrame\n",
        "IFrame(src=f\"https://mfr.ca-1.osf.io/render?url=https://osf.io/6dxwe/?direct%26mode=render%26action=download%26mode=render\", width=854, height=480)"
      ]
    },
    {
      "cell_type": "code",
      "execution_count": 2,
      "metadata": {
        "cellView": "form",
        "execution": {},
        "id": "LdHp50Uv-wXB",
        "outputId": "4fb466c5-4e23-47cc-b3b6-3120c515de5d",
        "colab": {
          "base_uri": "https://localhost:8080/",
          "height": 581,
          "referenced_widgets": [
            "a4cd503ee43040e89eb19eb064fd63cc",
            "2fd6e0341a8e412bafe45418d8ea6ea4",
            "1abaee8d4a054f2c9d601824da7b226e",
            "76315671e1c649be86a162c678287402",
            "dc6ae570883b43b0a8c2d3228dfcdd1e",
            "bb4c0b89673b4313a8058637bfd483b2"
          ]
        }
      },
      "outputs": [
        {
          "output_type": "display_data",
          "data": {
            "text/plain": [
              "Tab(children=(Output(), Output()), _titles={'0': 'Youtube', '1': 'Bilibili'})"
            ],
            "application/vnd.jupyter.widget-view+json": {
              "version_major": 2,
              "version_minor": 0,
              "model_id": "a4cd503ee43040e89eb19eb064fd63cc"
            }
          },
          "metadata": {}
        }
      ],
      "source": [
        "# @title Video 1: \"What\" Models\n",
        "from ipywidgets import widgets\n",
        "\n",
        "out2 = widgets.Output()\n",
        "with out2:\n",
        "  from IPython.display import IFrame\n",
        "  class BiliVideo(IFrame):\n",
        "      def __init__(self, id, page=1, width=400, height=300, **kwargs):\n",
        "          self.id=id\n",
        "          src = 'https://player.bilibili.com/player.html?bvid={0}&page={1}'.format(id, page)\n",
        "          super(BiliVideo, self).__init__(src, width, height, **kwargs)\n",
        "\n",
        "  video = BiliVideo(id=\"BV1mz4y1X7ot\", width=854, height=480, fs=1)\n",
        "  print('Video available at https://www.bilibili.com/video/{0}'.format(video.id))\n",
        "  display(video)\n",
        "\n",
        "out1 = widgets.Output()\n",
        "with out1:\n",
        "  from IPython.display import YouTubeVideo\n",
        "  video = YouTubeVideo(id=\"KgqR_jbjMQg\", width=854, height=480, fs=1, rel=0)\n",
        "  print('Video available at https://youtube.com/watch?v=' + video.id)\n",
        "  display(video)\n",
        "\n",
        "out = widgets.Tab([out1, out2])\n",
        "out.set_title(0, 'Youtube')\n",
        "out.set_title(1, 'Bilibili')\n",
        "\n",
        "display(out)"
      ]
    },
    {
      "cell_type": "markdown",
      "metadata": {
        "execution": {},
        "id": "QYSLN-1y-wXC"
      },
      "source": [
        "# Setup\n",
        "\n"
      ]
    },
    {
      "cell_type": "markdown",
      "metadata": {
        "execution": {},
        "id": "mt1fz8E7-wXD"
      },
      "source": [
        "Python requires you to explicitly \"import\" libraries before their functions are available to use. We will always specify our imports at the beginning of each notebook or script."
      ]
    },
    {
      "cell_type": "code",
      "execution_count": 3,
      "metadata": {
        "execution": {},
        "pycharm": {
          "name": "#%%\n"
        },
        "id": "arU6jBVs-wXE"
      },
      "outputs": [],
      "source": [
        "import numpy as np\n",
        "import matplotlib.pyplot as plt"
      ]
    },
    {
      "cell_type": "markdown",
      "metadata": {
        "execution": {},
        "id": "w7d7GT2O-wXF"
      },
      "source": [
        "Tutorial notebooks typically begin with several set-up steps that are hidden from view by default.\n",
        "\n",
        "**Important:** Even though the code is hidden, you still need to run it so that the rest of the notebook can work properly. Step through each cell, either by pressing the play button in the upper-left-hand corner or with a keyboard shortcut (`Cmd-Return` on a Mac, `Ctrl-Enter` otherwise). A number will appear inside the brackets (e.g. `[3]`) to tell you that the cell was executed and what order that happened in.\n",
        "\n",
        "If you are curious to see what is going on inside each cell, you can double click to expand. Once expanded, double-click the white space to the right of the editor to collapse again."
      ]
    },
    {
      "cell_type": "code",
      "execution_count": 4,
      "metadata": {
        "cellView": "form",
        "execution": {},
        "pycharm": {
          "name": "#%%\n"
        },
        "id": "ra-a2IbQ-wXH"
      },
      "outputs": [],
      "source": [
        "# @title Figure Settings\n",
        "import ipywidgets as widgets #interactive display\n",
        "\n",
        "%matplotlib inline\n",
        "%config InlineBackend.figure_format = 'retina'\n",
        "plt.style.use(\"https://raw.githubusercontent.com/NeuromatchAcademy/course-content/main/nma.mplstyle\")"
      ]
    },
    {
      "cell_type": "code",
      "execution_count": 5,
      "metadata": {
        "cellView": "form",
        "execution": {},
        "id": "LUGMM0u0-wXI"
      },
      "outputs": [],
      "source": [
        "# @title Plotting functions\n",
        "\n",
        "def plot_isis(single_neuron_isis):\n",
        "  plt.hist(single_neuron_isis, bins=50, histtype=\"stepfilled\")\n",
        "  plt.axvline(single_neuron_isis.mean(), color=\"orange\", label=\"Mean ISI\")\n",
        "  plt.xlabel(\"ISI duration (s)\")\n",
        "  plt.ylabel(\"Number of spikes\")\n",
        "  plt.legend()"
      ]
    },
    {
      "cell_type": "code",
      "execution_count": 6,
      "metadata": {
        "cellView": "form",
        "execution": {},
        "pycharm": {
          "name": "#%%\n"
        },
        "id": "LQhcEh19-wXJ"
      },
      "outputs": [],
      "source": [
        "#@title Data retrieval\n",
        "#@markdown This cell downloads the example dataset that we will use in this tutorial.\n",
        "import io\n",
        "import requests\n",
        "r = requests.get('https://osf.io/sy5xt/download')\n",
        "if r.status_code != 200:\n",
        "  print('Failed to download data')\n",
        "else:\n",
        "  spike_times = np.load(io.BytesIO(r.content), allow_pickle=True)['spike_times']"
      ]
    },
    {
      "cell_type": "markdown",
      "metadata": {
        "execution": {},
        "id": "2XWm-G9Q-wXK"
      },
      "source": [
        "---\n",
        "\n",
        "# Section 1: Exploring the Steinmetz dataset\n",
        "\n",
        "In this tutorial we will explore the structure of a neuroscience dataset.\n",
        "\n",
        "We consider a subset of data from a study of [Steinmetz _et al._ (2019)](https://www.nature.com/articles/s41586-019-1787-x). In this study, Neuropixels probes were implanted in the brains of mice. Electrical potentials were measured by hundreds of electrodes along the length of each probe. Each electrode's measurements captured local variations in the electric field due to nearby spiking neurons. A spike sorting algorithm was used to infer spike times and cluster spikes according to common origin: a single cluster of sorted spikes is causally attributed to a single neuron.\n",
        "\n",
        "In particular, a single recording session of spike times and neuron assignments was loaded and assigned to `spike_times` in the preceding setup.\n",
        "\n",
        "Typically a dataset comes with some information about its structure. However, this information may be incomplete. You might also apply some transformations or \"pre-processing\" to create a working representation of the data of interest, which might go partly undocumented depending on the circumstances. In any case it is important to be able to use the available tools to investigate unfamiliar aspects of a data structure.\n",
        "\n",
        "Let's see what our data looks like..."
      ]
    },
    {
      "cell_type": "markdown",
      "metadata": {
        "execution": {},
        "id": "P1K8R0Tk-wXM"
      },
      "source": [
        "## Section 1.1: Warming up with `spike_times`"
      ]
    },
    {
      "cell_type": "markdown",
      "metadata": {
        "execution": {},
        "id": "O9p_gJas-wXN"
      },
      "source": [
        "What is the Python type of our variable?"
      ]
    },
    {
      "cell_type": "code",
      "execution_count": 7,
      "metadata": {
        "execution": {},
        "pycharm": {
          "name": "#%%\n"
        },
        "id": "sx3atgcy-wXO",
        "outputId": "04ea4e75-36ed-47e2-ca2b-bfc79af08012",
        "colab": {
          "base_uri": "https://localhost:8080/"
        }
      },
      "outputs": [
        {
          "output_type": "execute_result",
          "data": {
            "text/plain": [
              "numpy.ndarray"
            ]
          },
          "metadata": {},
          "execution_count": 7
        }
      ],
      "source": [
        "type(spike_times)"
      ]
    },
    {
      "cell_type": "markdown",
      "metadata": {
        "execution": {},
        "id": "8GH8Q5Os-wXP"
      },
      "source": [
        "You should see `numpy.ndarray`, which means that it's a normal NumPy array.\n",
        "\n",
        "If you see an error message, it probably means that you did not execute the set-up cells at the top of the notebook. So go ahead and make sure to do that.\n",
        "\n",
        "Once everything is running properly, we can ask the next question about the dataset: what's its shape?"
      ]
    },
    {
      "cell_type": "code",
      "execution_count": 8,
      "metadata": {
        "execution": {},
        "pycharm": {
          "name": "#%%\n"
        },
        "id": "j6vQDsNa-wXP",
        "outputId": "a56db8c1-fb47-4f48-cb7a-e2539ac42720",
        "colab": {
          "base_uri": "https://localhost:8080/"
        }
      },
      "outputs": [
        {
          "output_type": "execute_result",
          "data": {
            "text/plain": [
              "(734,)"
            ]
          },
          "metadata": {},
          "execution_count": 8
        }
      ],
      "source": [
        "spike_times.shape"
      ]
    },
    {
      "cell_type": "markdown",
      "metadata": {
        "execution": {},
        "id": "GIaR9VBk-wXQ"
      },
      "source": [
        "There are 734 entries in one dimension, and no other dimensions. What is the Python type of the first entry, and what is *its* shape?"
      ]
    },
    {
      "cell_type": "code",
      "execution_count": 9,
      "metadata": {
        "execution": {},
        "pycharm": {
          "name": "#%%\n"
        },
        "id": "F2lOZ_T0-wXQ",
        "outputId": "f831975c-6da8-4272-ecb5-469cbc9406dd",
        "colab": {
          "base_uri": "https://localhost:8080/"
        }
      },
      "outputs": [
        {
          "output_type": "stream",
          "name": "stdout",
          "text": [
            "<class 'numpy.ndarray'>\n",
            "(826,)\n"
          ]
        }
      ],
      "source": [
        "idx = 0\n",
        "print(\n",
        "  type(spike_times[idx]),\n",
        "  spike_times[idx].shape,\n",
        "  sep=\"\\n\",\n",
        ")"
      ]
    },
    {
      "cell_type": "markdown",
      "metadata": {
        "execution": {},
        "id": "yJCGZueE-wXR"
      },
      "source": [
        "It's also a NumPy array with a 1D shape! Why didn't this show up as a second dimension in the shape of `spike_times`? That is, why not `spike_times.shape == (734, 826)`?\n",
        "\n",
        "To investigate, let's check another entry."
      ]
    },
    {
      "cell_type": "code",
      "execution_count": 10,
      "metadata": {
        "execution": {},
        "pycharm": {
          "name": "#%%\n"
        },
        "id": "EAaroD3Z-wXS",
        "outputId": "f4539485-c9d2-4268-e2be-d719bbedc849",
        "colab": {
          "base_uri": "https://localhost:8080/"
        }
      },
      "outputs": [
        {
          "output_type": "stream",
          "name": "stdout",
          "text": [
            "<class 'numpy.ndarray'>\n",
            "(9723,)\n"
          ]
        }
      ],
      "source": [
        "idx = 321\n",
        "print(\n",
        "  type(spike_times[idx]),\n",
        "  spike_times[idx].shape,\n",
        "  sep=\"\\n\",\n",
        ")"
      ]
    },
    {
      "cell_type": "markdown",
      "metadata": {
        "execution": {},
        "id": "ZW408Sis-wXT"
      },
      "source": [
        "It's also a 1D NumPy array, but it has a different shape. Checking the NumPy types of the values in these arrays, and their first few elements, we see they are composed of floating point numbers (not another level of `np.ndarray`):"
      ]
    },
    {
      "cell_type": "code",
      "execution_count": 11,
      "metadata": {
        "execution": {},
        "pycharm": {
          "name": "#%%\n"
        },
        "id": "xy8jjrUd-wXU",
        "outputId": "2b59c491-434a-4a4e-8c33-84b6ce1a019b",
        "colab": {
          "base_uri": "https://localhost:8080/"
        }
      },
      "outputs": [
        {
          "output_type": "stream",
          "name": "stdout",
          "text": [
            "Neuron 0:\n",
            "float32\n",
            "[ 0.8149   14.822467 24.9646   25.1436   38.8709  ]\n",
            "\n",
            "\n",
            "Neuron 321:\n",
            "float32\n",
            "[1.0698667 1.1536334 1.2403667 1.7072    1.799    ]\n",
            "\n",
            "\n"
          ]
        }
      ],
      "source": [
        "i_neurons = [0, 321]\n",
        "i_print = slice(0, 5)\n",
        "\n",
        "for i in i_neurons:\n",
        "  print(\n",
        "    \"Neuron {}:\".format(i),\n",
        "    spike_times[i].dtype,\n",
        "    spike_times[i][i_print],\n",
        "    \"\\n\",\n",
        "    sep=\"\\n\"\n",
        "  )"
      ]
    },
    {
      "cell_type": "markdown",
      "metadata": {
        "execution": {},
        "id": "9wtDwilS-wXV"
      },
      "source": [
        "Note that this time we've checked the NumPy `dtype` rather than the Python variable type. These two arrays contain floating point numbers (\"floats\") with 32 bits of precision.\n",
        "\n",
        "The basic picture is coming together:\n",
        "- `spike_times` is 1D, its entries are NumPy arrays, and its length is the number of neurons (734): by indexing it, we select a subset of neurons.\n",
        "- An array in `spike_times` is also 1D and corresponds to a single neuron; its entries are floating point numbers, and its length is the number of spikes attributed to that neuron. By indexing it, we select a subset of spike times for that neuron.\n",
        "\n",
        "Visually, you can think of the data structure as looking something like this:\n",
        "\n",
        "```\n",
        "| . . . . . |\n",
        "| . . . . . . . . |\n",
        "| . . . |\n",
        "| . . . . . . . |\n",
        "```\n",
        "\n",
        "Before moving on, we'll calculate and store the number of neurons in the dataset and the number of spikes per neuron:"
      ]
    },
    {
      "cell_type": "code",
      "execution_count": 12,
      "metadata": {
        "execution": {},
        "pycharm": {
          "name": "#%%\n"
        },
        "id": "fa8L8Lc3-wXW",
        "outputId": "6446d482-a09b-4b7f-c31f-0bfba492b4b2",
        "colab": {
          "base_uri": "https://localhost:8080/"
        }
      },
      "outputs": [
        {
          "output_type": "stream",
          "name": "stdout",
          "text": [
            "Number of neurons: 734\n",
            "Number of spikes for first five neurons: [826, 2818, 3953, 646, 1115]\n"
          ]
        }
      ],
      "source": [
        "n_neurons = len(spike_times)\n",
        "total_spikes_per_neuron = [len(spike_times_i) for spike_times_i in spike_times]\n",
        "\n",
        "print(f\"Number of neurons: {n_neurons}\")\n",
        "print(f\"Number of spikes for first five neurons: {total_spikes_per_neuron[:5]}\")"
      ]
    },
    {
      "cell_type": "code",
      "execution_count": 13,
      "metadata": {
        "cellView": "form",
        "execution": {},
        "id": "gjd6JtUo-wXW",
        "outputId": "a8e44d66-da3a-4ab5-a1fc-fa92a6c39116",
        "colab": {
          "base_uri": "https://localhost:8080/",
          "height": 581,
          "referenced_widgets": [
            "1b74db50d7b4419a8445bc1f0f3d61a1",
            "0794db2843f849a3a37594d06d7049f1",
            "7f568e80c23d4bb6938490a23ba049c6",
            "e8584ea8a682414d8a78182e6b28d9e4",
            "23bd692faa594ab19dd374a075ac1ad9",
            "1dd91a7b3ce6424a83059ed9aa5b1cc8"
          ]
        }
      },
      "outputs": [
        {
          "output_type": "display_data",
          "data": {
            "text/plain": [
              "Tab(children=(Output(), Output()), _titles={'0': 'Youtube', '1': 'Bilibili'})"
            ],
            "application/vnd.jupyter.widget-view+json": {
              "version_major": 2,
              "version_minor": 0,
              "model_id": "1b74db50d7b4419a8445bc1f0f3d61a1"
            }
          },
          "metadata": {}
        }
      ],
      "source": [
        "# @title Video 2: Exploring the dataset\n",
        "from ipywidgets import widgets\n",
        "\n",
        "out2 = widgets.Output()\n",
        "with out2:\n",
        "  from IPython.display import IFrame\n",
        "  class BiliVideo(IFrame):\n",
        "      def __init__(self, id, page=1, width=400, height=300, **kwargs):\n",
        "          self.id=id\n",
        "          src = 'https://player.bilibili.com/player.html?bvid={0}&page={1}'.format(id, page)\n",
        "          super(BiliVideo, self).__init__(src, width, height, **kwargs)\n",
        "\n",
        "  video = BiliVideo(id=\"BV1Hp4y1S7Au\", width=854, height=480, fs=1)\n",
        "  print('Video available at https://www.bilibili.com/video/{0}'.format(video.id))\n",
        "  display(video)\n",
        "\n",
        "out1 = widgets.Output()\n",
        "with out1:\n",
        "  from IPython.display import YouTubeVideo\n",
        "  video = YouTubeVideo(id=\"oHwYWUI_o1U\", width=854, height=480, fs=1, rel=0)\n",
        "  print('Video available at https://youtube.com/watch?v=' + video.id)\n",
        "  display(video)\n",
        "\n",
        "out = widgets.Tab([out1, out2])\n",
        "out.set_title(0, 'Youtube')\n",
        "out.set_title(1, 'Bilibili')\n",
        "\n",
        "display(out)"
      ]
    },
    {
      "cell_type": "markdown",
      "metadata": {
        "execution": {},
        "id": "ySDUUKX0-wXX"
      },
      "source": [
        "## Section 1.2: Getting warmer: counting and plotting total spike counts\n",
        "\n",
        "As we've seen, the number of spikes over the entire recording is variable between neurons. More generally, some neurons tend to spike more than others in a given period. Let's explore what the distribution of spiking looks like across all the neurons in the dataset."
      ]
    },
    {
      "cell_type": "markdown",
      "metadata": {
        "execution": {},
        "id": "m3mjFvY9-wXZ"
      },
      "source": [
        "Are most neurons \"loud\" or \"quiet\", compared to the average? To see, we'll define bins of constant width in terms of total spikes and count the neurons that fall in each bin. This is known as a \"histogram\".\n",
        "\n",
        "You can plot a histogram with the matplotlib function `plt.hist`. If you just need to compute it, you can use the numpy function `np.histogram` instead."
      ]
    },
    {
      "cell_type": "code",
      "execution_count": 14,
      "metadata": {
        "execution": {},
        "pycharm": {
          "name": "#%%\n"
        },
        "id": "6zhUXhlF-wXa",
        "outputId": "b451e472-8b61-44cd-c045-7ae1a6211c4a",
        "colab": {
          "base_uri": "https://localhost:8080/",
          "height": 431
        }
      },
      "outputs": [
        {
          "output_type": "display_data",
          "data": {
            "text/plain": [
              "<Figure size 576x432 with 1 Axes>"
            ],
            "image/png": "[encoded data removed]"
          },
          "metadata": {
            "image/png": {
              "width": 558,
              "height": 414
            },
            "needs_background": "light"
          }
        }
      ],
      "source": [
        "plt.hist(total_spikes_per_neuron, bins=50, histtype=\"stepfilled\")\n",
        "plt.xlabel(\"Total spikes per neuron\")\n",
        "plt.ylabel(\"Number of neurons\");"
      ]
    },
    {
      "cell_type": "markdown",
      "metadata": {
        "execution": {},
        "id": "aAppnmKs-wXb"
      },
      "source": [
        "Let's see what percentage of neurons have a below-average spike count:"
      ]
    },
    {
      "cell_type": "code",
      "execution_count": 15,
      "metadata": {
        "execution": {},
        "pycharm": {
          "name": "#%%\n"
        },
        "id": "yMKACW4E-wXb",
        "outputId": "6741c8c4-e4f6-4891-ad75-824f2fa7a4ea",
        "colab": {
          "base_uri": "https://localhost:8080/"
        }
      },
      "outputs": [
        {
          "output_type": "stream",
          "name": "stdout",
          "text": [
            "68.0% of neurons are below the mean\n"
          ]
        }
      ],
      "source": [
        "mean_spike_count = np.mean(total_spikes_per_neuron)\n",
        "frac_below_mean = (total_spikes_per_neuron < mean_spike_count).mean()\n",
        "print(f\"{frac_below_mean:2.1%} of neurons are below the mean\")"
      ]
    },
    {
      "cell_type": "markdown",
      "metadata": {
        "execution": {},
        "id": "meYZ5nPY-wXc"
      },
      "source": [
        "We can also see this by adding the average spike count to the histogram plot:"
      ]
    },
    {
      "cell_type": "code",
      "execution_count": 16,
      "metadata": {
        "execution": {},
        "pycharm": {
          "name": "#%%\n"
        },
        "id": "yaOzP_zv-wXd",
        "outputId": "7d80e10c-53b3-4668-f91d-504d5613fd64",
        "colab": {
          "base_uri": "https://localhost:8080/",
          "height": 431
        }
      },
      "outputs": [
        {
          "output_type": "display_data",
          "data": {
            "text/plain": [
              "<Figure size 576x432 with 1 Axes>"
            ],
            "image/png": "[encoded data removed]"
          },
          "metadata": {
            "image/png": {
              "width": 558,
              "height": 414
            },
            "needs_background": "light"
          }
        }
      ],
      "source": [
        "plt.hist(total_spikes_per_neuron, bins=50, histtype=\"stepfilled\")\n",
        "plt.xlabel(\"Total spikes per neuron\")\n",
        "plt.ylabel(\"Number of neurons\")\n",
        "plt.axvline(mean_spike_count, color=\"orange\", label=\"Mean neuron\")\n",
        "plt.legend();"
      ]
    },
    {
      "cell_type": "markdown",
      "metadata": {
        "execution": {},
        "id": "P0Bc6ocY-wXd"
      },
      "source": [
        "This shows that the majority of neurons are relatively \"quiet\" compared to the mean, while a small number of neurons are exceptionally \"loud\": they must have spiked more often to reach a large count.\n",
        "\n",
        "### Coding Exercise 1.2: Comparing mean and median neurons\n",
        "\n",
        "If the mean neuron is more active than 68% of the population, what does that imply about the relationship between the mean neuron and the median neuron?\n",
        "\n",
        "*Exercise objective:* Reproduce the plot above, but add the median neuron.\n"
      ]
    },
    {
      "cell_type": "code",
      "execution_count": 17,
      "metadata": {
        "execution": {},
        "pycharm": {
          "name": "#%%\n"
        },
        "id": "WOP8WwSy-wXe",
        "outputId": "0b058ee4-3fae-4215-b157-9033f962a42f",
        "colab": {
          "base_uri": "https://localhost:8080/",
          "height": 448
        }
      },
      "outputs": [
        {
          "output_type": "execute_result",
          "data": {
            "text/plain": [
              "<matplotlib.legend.Legend at 0x7feeafe97850>"
            ]
          },
          "metadata": {},
          "execution_count": 17
        },
        {
          "output_type": "display_data",
          "data": {
            "text/plain": [
              "<Figure size 576x432 with 1 Axes>"
            ],
            "image/png": "[encoded data removed]"
          },
          "metadata": {
            "image/png": {
              "width": 558,
              "height": 414
            },
            "needs_background": "light"
          }
        }
      ],
      "source": [
        "#################################################################################\n",
        "## TODO for students:\n",
        "# Fill out function and remove\n",
        "# raise NotImplementedError(\"Student exercise: complete histogram plotting with median\")\n",
        "#################################################################################\n",
        "\n",
        "# Compute median spike count\n",
        "median_spike_count = np.median(total_spikes_per_neuron)  # Hint: Try the function np.median\n",
        "\n",
        "# Visualize median, mean, and histogram\n",
        "plt.hist(total_spikes_per_neuron, bins=50, histtype=\"stepfilled\")\n",
        "plt.axvline(median_spike_count, color=\"limegreen\", label=\"Median neuron\")\n",
        "plt.axvline(mean_spike_count, color=\"orange\", label=\"Mean neuron\")\n",
        "plt.xlabel(\"Total spikes per neuron\")\n",
        "plt.ylabel(\"Number of neurons\")\n",
        "plt.legend()"
      ]
    },
    {
      "cell_type": "markdown",
      "metadata": {
        "execution": {},
        "pycharm": {
          "name": "#%%\n"
        },
        "id": "0V0UN_Oy-wXe"
      },
      "source": [
        "[*Click for solution*](https://github.com/NeuromatchAcademy/course-content/tree/main//tutorials/W1D1_ModelTypes/solutions/W1D1_Tutorial1_Solution_9af91fe0.py)\n",
        "\n",
        "*Example output:*\n",
        "\n",
        "<img alt='Solution hint' align='left' width=1116.0 height=827.0 src=https://raw.githubusercontent.com/NeuromatchAcademy/course-content/main/tutorials/W1D1_ModelTypes/static/W1D1_Tutorial1_Solution_9af91fe0_0.png>\n",
        "\n"
      ]
    },
    {
      "cell_type": "markdown",
      "metadata": {
        "execution": {},
        "id": "Rgi90OZ1-wXf"
      },
      "source": [
        "\n",
        "*Bonus:* The median is the 50th percentile. What about other percentiles? Can you show the interquartile range on the histogram?"
      ]
    },
    {
      "cell_type": "markdown",
      "metadata": {
        "execution": {},
        "id": "w1Pd5T12-wXf"
      },
      "source": [
        "---\n",
        "\n",
        "# Section 2: Visualizing neuronal spiking activity\n",
        "\n",
        "*Estimated timing to here from start of tutorial: 15 min*"
      ]
    },
    {
      "cell_type": "markdown",
      "metadata": {
        "execution": {},
        "id": "6TvmGyH8-wXg"
      },
      "source": [
        "## Section 2.1: Getting a subset of the data\n",
        "\n",
        "Now we'll visualize trains of spikes. Because the recordings are long, we will first define a short time interval and restrict the visualization to only the spikes in this interval. We defined a helper function, `restrict_spike_times`, to do this for you. If you call `help()` on the function, it will tell you a little bit about itself:"
      ]
    },
    {
      "cell_type": "code",
      "execution_count": 18,
      "metadata": {
        "cellView": "form",
        "execution": {},
        "id": "UQJZL58k-wXg"
      },
      "outputs": [],
      "source": [
        "# @markdown Execute this cell for helper function `restrict_spike_times`\n",
        "def restrict_spike_times(spike_times, interval):\n",
        "  \"\"\"Given a spike_time dataset, restrict to spikes within given interval.\n",
        "\n",
        "  Args:\n",
        "    spike_times (sequence of np.ndarray): List or array of arrays,\n",
        "      each inner array has spike times for a single neuron.\n",
        "    interval (tuple): Min, max time values; keep min <= t < max.\n",
        "\n",
        "  Returns:\n",
        "    np.ndarray: like `spike_times`, but only within `interval`\n",
        "  \"\"\"\n",
        "  interval_spike_times = []\n",
        "  for spikes in spike_times:\n",
        "    interval_mask = (spikes >= interval[0]) & (spikes < interval[1])\n",
        "    interval_spike_times.append(spikes[interval_mask])\n",
        "  return np.array(interval_spike_times, object)"
      ]
    },
    {
      "cell_type": "code",
      "execution_count": 19,
      "metadata": {
        "execution": {},
        "pycharm": {
          "name": "#%%\n"
        },
        "id": "TU_Avgmi-wXh",
        "outputId": "4c8a5513-c98e-4e82-bdc3-72e86a33c741",
        "colab": {
          "base_uri": "https://localhost:8080/"
        }
      },
      "outputs": [
        {
          "output_type": "stream",
          "name": "stdout",
          "text": [
            "Help on function restrict_spike_times in module __main__:\n",
            "\n",
            "restrict_spike_times(spike_times, interval)\n",
            "    Given a spike_time dataset, restrict to spikes within given interval.\n",
            "    \n",
            "    Args:\n",
            "      spike_times (sequence of np.ndarray): List or array of arrays,\n",
            "        each inner array has spike times for a single neuron.\n",
            "      interval (tuple): Min, max time values; keep min <= t < max.\n",
            "    \n",
            "    Returns:\n",
            "      np.ndarray: like `spike_times`, but only within `interval`\n",
            "\n"
          ]
        }
      ],
      "source": [
        "help(restrict_spike_times)"
      ]
    },
    {
      "cell_type": "code",
      "execution_count": 20,
      "metadata": {
        "execution": {},
        "pycharm": {
          "name": "#%%\n"
        },
        "id": "PkmFAPKO-wXh"
      },
      "outputs": [],
      "source": [
        "t_interval = (5, 15)  # units are seconds after start of recording\n",
        "interval_spike_times = restrict_spike_times(spike_times, t_interval)"
      ]
    },
    {
      "cell_type": "markdown",
      "metadata": {
        "execution": {},
        "id": "Oll2IB3U-wXi"
      },
      "source": [
        "Is this a representative interval? What fraction of the total spikes fall in this interval?"
      ]
    },
    {
      "cell_type": "code",
      "execution_count": 21,
      "metadata": {
        "execution": {},
        "pycharm": {
          "name": "#%%\n"
        },
        "id": "H9Bt88Sc-wXi",
        "outputId": "21e8b370-1adc-4bff-a7d0-7441d74f364f",
        "colab": {
          "base_uri": "https://localhost:8080/"
        }
      },
      "outputs": [
        {
          "output_type": "stream",
          "name": "stdout",
          "text": [
            "0.33% of the total spikes are in the interval\n"
          ]
        }
      ],
      "source": [
        "original_counts = sum([len(spikes) for spikes in spike_times])\n",
        "interval_counts = sum([len(spikes) for spikes in interval_spike_times])\n",
        "frac_interval_spikes = interval_counts / original_counts\n",
        "print(f\"{frac_interval_spikes:.2%} of the total spikes are in the interval\")"
      ]
    },
    {
      "cell_type": "markdown",
      "metadata": {
        "execution": {},
        "id": "OPozgMqZ-wXi"
      },
      "source": [
        "How does this compare to the ratio between the interval duration and the experiment duration? (What fraction of the total time is in this interval?)\n",
        "\n",
        "We can approximate the experiment duration by taking the minimum and maximum spike time in the whole dataset. To do that, we \"concatenate\" all of the neurons into one array and then use `np.ptp` (\"peak-to-peak\") to get the difference between the maximum and minimum value:"
      ]
    },
    {
      "cell_type": "code",
      "execution_count": 22,
      "metadata": {
        "execution": {},
        "pycharm": {
          "name": "#%%\n"
        },
        "id": "vH7Gihf_-wXj",
        "outputId": "6ad938fc-1a2e-4d9c-d8a0-de9f124ab73a",
        "colab": {
          "base_uri": "https://localhost:8080/"
        }
      },
      "outputs": [
        {
          "output_type": "stream",
          "name": "stdout",
          "text": [
            "0.37% of the total time is in the interval\n"
          ]
        }
      ],
      "source": [
        "spike_times_flat = np.concatenate(spike_times)\n",
        "experiment_duration = np.ptp(spike_times_flat)\n",
        "interval_duration = t_interval[1] - t_interval[0]\n",
        "\n",
        "frac_interval_time = interval_duration / experiment_duration\n",
        "print(f\"{frac_interval_time:.2%} of the total time is in the interval\")"
      ]
    },
    {
      "cell_type": "markdown",
      "metadata": {
        "execution": {},
        "id": "GbFcd-CO-wXk"
      },
      "source": [
        "These two values—the fraction of total spikes and the fraction of total time—are similar. This suggests the average spike rate of the neuronal population is not very different in this interval compared to the entire recording.\n",
        "\n",
        "## Section 2.2: Plotting spike trains and rasters\n",
        "\n",
        "Now that we have a representative subset, we're ready to plot the spikes, using the matplotlib `plt.eventplot` function. Let's look at a single neuron first:"
      ]
    },
    {
      "cell_type": "code",
      "execution_count": 23,
      "metadata": {
        "execution": {},
        "pycharm": {
          "name": "#%%\n"
        },
        "id": "ZDFyzmdM-wXk",
        "outputId": "ce8f33d9-f19c-439d-f3a0-cb1557c61318",
        "colab": {
          "base_uri": "https://localhost:8080/",
          "height": 431
        }
      },
      "outputs": [
        {
          "output_type": "display_data",
          "data": {
            "text/plain": [
              "<Figure size 576x432 with 1 Axes>"
            ],
            "image/png": "[encoded data removed]"
          },
          "metadata": {
            "image/png": {
              "width": 557,
              "height": 414
            },
            "needs_background": "light"
          }
        }
      ],
      "source": [
        "neuron_idx = 1\n",
        "plt.eventplot(interval_spike_times[neuron_idx], color=\".2\")\n",
        "plt.xlabel(\"Time (s)\")\n",
        "plt.yticks([]);"
      ]
    },
    {
      "cell_type": "markdown",
      "metadata": {
        "execution": {},
        "id": "hCJAmD2m-wXl"
      },
      "source": [
        "We can also plot multiple neurons. Here are three:"
      ]
    },
    {
      "cell_type": "code",
      "execution_count": 24,
      "metadata": {
        "execution": {},
        "pycharm": {
          "name": "#%%\n"
        },
        "id": "rhXvYHBZ-wXl",
        "outputId": "75bef871-421a-4443-c9b4-fa7866c3c611",
        "colab": {
          "base_uri": "https://localhost:8080/",
          "height": 430
        }
      },
      "outputs": [
        {
          "output_type": "display_data",
          "data": {
            "text/plain": [
              "<Figure size 576x432 with 1 Axes>"
            ],
            "image/png": "[encoded data removed]"
          },
          "metadata": {
            "image/png": {
              "width": 557,
              "height": 413
            },
            "needs_background": "light"
          }
        }
      ],
      "source": [
        "neuron_idx = [1, 11, 51]\n",
        "plt.eventplot(interval_spike_times[neuron_idx], color=\".2\")\n",
        "plt.xlabel(\"Time (s)\")\n",
        "plt.yticks([]);"
      ]
    },
    {
      "cell_type": "markdown",
      "metadata": {
        "execution": {},
        "id": "nn5I6y_3-wXl"
      },
      "source": [
        "This makes a \"raster\" plot, where the spikes from each neuron appear in a different row.\n",
        "\n",
        "Plotting a large number of neurons can give you a sense for the characteristics in the population. Let's show every 5th neuron that was recorded:"
      ]
    },
    {
      "cell_type": "code",
      "execution_count": 25,
      "metadata": {
        "execution": {},
        "pycharm": {
          "name": "#%%\n"
        },
        "id": "8ZFtD4ZL-wXm",
        "outputId": "2482783a-7322-4cdd-9076-3bcdee4050e3",
        "colab": {
          "base_uri": "https://localhost:8080/",
          "height": 430
        }
      },
      "outputs": [
        {
          "output_type": "display_data",
          "data": {
            "text/plain": [
              "<Figure size 576x432 with 1 Axes>"
            ],
            "image/png": "[encoded data removed]"
          },
          "metadata": {
            "image/png": {
              "width": 558,
              "height": 413
            },
            "needs_background": "light"
          }
        }
      ],
      "source": [
        "neuron_idx = np.arange(0, len(spike_times), 5)\n",
        "plt.eventplot(interval_spike_times[neuron_idx], color=\".2\")\n",
        "plt.xlabel(\"Time (s)\")\n",
        "plt.yticks([]);"
      ]
    },
    {
      "cell_type": "markdown",
      "metadata": {
        "execution": {},
        "id": "nlqYnodA-wXm"
      },
      "source": [
        "*Question*: How does the information in this plot relate to the histogram of total spike counts that you saw above?"
      ]
    },
    {
      "cell_type": "markdown",
      "metadata": {
        "execution": {},
        "id": "bnfGFwc5-wXm"
      },
      "source": [
        "[*Click for solution*](https://github.com/NeuromatchAcademy/course-content/tree/main//tutorials/W1D1_ModelTypes/solutions/W1D1_Tutorial1_Solution_b01195c9.py)\n",
        "\n"
      ]
    },
    {
      "cell_type": "code",
      "execution_count": 26,
      "metadata": {
        "cellView": "form",
        "execution": {},
        "id": "-i5XTNuI-wXn",
        "outputId": "a6ea5f0a-2abc-49b9-fa7c-4467ebfbdf6d",
        "colab": {
          "base_uri": "https://localhost:8080/",
          "height": 581,
          "referenced_widgets": [
            "6d2258f69ebb43a7b299b6dc1354bc68",
            "3af1bd73f5f24a47bec3e5a1949f01d6",
            "181e85cc70fd4c20b6a438fab349d2de",
            "ed80bce4d25245fc8c2042fad9c58083",
            "88f4e44e56484378ae2244b5d905bbbe",
            "2f8a13b69b684ef6a35ab4649afad971"
          ]
        }
      },
      "outputs": [
        {
          "output_type": "display_data",
          "data": {
            "text/plain": [
              "Tab(children=(Output(), Output()), _titles={'0': 'Youtube', '1': 'Bilibili'})"
            ],
            "application/vnd.jupyter.widget-view+json": {
              "version_major": 2,
              "version_minor": 0,
              "model_id": "6d2258f69ebb43a7b299b6dc1354bc68"
            }
          },
          "metadata": {}
        }
      ],
      "source": [
        "# @title Video 3: Visualizing activity\n",
        "from ipywidgets import widgets\n",
        "\n",
        "out2 = widgets.Output()\n",
        "with out2:\n",
        "  from IPython.display import IFrame\n",
        "  class BiliVideo(IFrame):\n",
        "      def __init__(self, id, page=1, width=400, height=300, **kwargs):\n",
        "          self.id=id\n",
        "          src = 'https://player.bilibili.com/player.html?bvid={0}&page={1}'.format(id, page)\n",
        "          super(BiliVideo, self).__init__(src, width, height, **kwargs)\n",
        "\n",
        "  video = BiliVideo(id=\"BV1dt4y1Q7C5\", width=854, height=480, fs=1)\n",
        "  print('Video available at https://www.bilibili.com/video/{0}'.format(video.id))\n",
        "  display(video)\n",
        "\n",
        "out1 = widgets.Output()\n",
        "with out1:\n",
        "  from IPython.display import YouTubeVideo\n",
        "  video = YouTubeVideo(id=\"QGA5FCW7kkA\", width=854, height=480, fs=1, rel=0)\n",
        "  print('Video available at https://youtube.com/watch?v=' + video.id)\n",
        "  display(video)\n",
        "\n",
        "out = widgets.Tab([out1, out2])\n",
        "out.set_title(0, 'Youtube')\n",
        "out.set_title(1, 'Bilibili')\n",
        "\n",
        "display(out)"
      ]
    },
    {
      "cell_type": "markdown",
      "metadata": {
        "execution": {},
        "id": "0hdy-36q-wXn"
      },
      "source": [
        "---\n",
        "\n",
        "# Section 3: Inter-spike intervals and their distributions\n",
        "\n",
        "*Estimated timing to here from start of tutorial: 25 min*"
      ]
    },
    {
      "cell_type": "markdown",
      "metadata": {
        "execution": {},
        "id": "WFhmwpit-wXo"
      },
      "source": [
        "Given the ordered arrays of spike times for each neuron in `spike_times`, which we've just visualized, what can we ask next?\n",
        "\n",
        "Scientific questions are informed by existing models. So, what knowledge do we already have that can inform questions about this data?\n",
        "\n",
        "We know that there are physical constraints on neuron spiking. Spiking costs energy, which the neuron's cellular machinery can only obtain at a finite rate. Therefore neurons should have a refractory period: they can only fire as quickly as their metabolic processes can support, and there is a minimum delay between consecutive spikes of the same neuron.\n",
        "\n",
        "More generally, we can ask \"how long does a neuron wait to spike again?\" or \"what is the longest a neuron will wait?\" Can we transform spike times into something else, to address questions like these more directly?\n",
        "\n",
        "We can consider the inter-spike times (or interspike intervals: ISIs). These are simply the time differences between consecutive spikes of the same neuron.\n",
        "\n",
        "### Exercise 3: Plot the distribution of ISIs for a single neuron\n",
        "\n",
        "*Exercise objective:* make a histogram, like we did for spike counts, to show the distribution of ISIs for one of the neurons in the dataset.\n",
        "\n",
        "Do this in three steps:\n",
        "\n",
        "1. Extract the spike times for one of the neurons\n",
        "2. Compute the ISIs (the amount of time between spikes, or equivalently, the difference between adjacent spike times)\n",
        "3. Plot a histogram with the array of individual ISIs"
      ]
    },
    {
      "cell_type": "code",
      "execution_count": 27,
      "metadata": {
        "execution": {},
        "pycharm": {
          "name": "#%%\n"
        },
        "id": "4QlBFUnj-wXo",
        "outputId": "ef8e61f7-4919-467e-97c2-09b83aa16644",
        "colab": {
          "base_uri": "https://localhost:8080/",
          "height": 430
        }
      },
      "outputs": [
        {
          "output_type": "display_data",
          "data": {
            "text/plain": [
              "<Figure size 576x432 with 1 Axes>"
            ],
            "image/png": "[encoded data removed]"
          },
          "metadata": {
            "image/png": {
              "width": 558,
              "height": 413
            },
            "needs_background": "light"
          }
        }
      ],
      "source": [
        "def compute_single_neuron_isis(spike_times, neuron_idx):\n",
        "  \"\"\"Compute a vector of ISIs for a single neuron given spike times.\n",
        "\n",
        "  Args:\n",
        "    spike_times (list of 1D arrays): Spike time dataset, with the first\n",
        "      dimension corresponding to different neurons.\n",
        "    neuron_idx (int): Index of the unit to compute ISIs for.\n",
        "\n",
        "  Returns:\n",
        "    isis (1D array): Duration of time between each spike from one neuron.\n",
        "  \"\"\"\n",
        "  #############################################################################\n",
        "  # Students: Fill in missing code (...) and comment or remove the next line\n",
        "  # raise NotImplementedError(\"Exercise: compute single neuron ISIs\")\n",
        "  #############################################################################\n",
        "\n",
        "  # Extract the spike times for the specified neuron\n",
        "  single_neuron_spikes = spike_times[neuron_idx]\n",
        "\n",
        "  # Compute the ISIs for this set of spikes\n",
        "  # Hint: the function np.diff computes discrete differences along an array\n",
        "  isis = np.diff(single_neuron_spikes)\n",
        "\n",
        "  return isis\n",
        "\n",
        "# Compute ISIs\n",
        "single_neuron_isis = compute_single_neuron_isis(spike_times, neuron_idx=283)\n",
        "\n",
        "# Visualize ISIs\n",
        "plot_isis(single_neuron_isis)"
      ]
    },
    {
      "cell_type": "markdown",
      "metadata": {
        "execution": {},
        "pycharm": {
          "name": "#%%\n"
        },
        "id": "scyOqZh7-wXp"
      },
      "source": [
        "[*Click for solution*](https://github.com/NeuromatchAcademy/course-content/tree/main//tutorials/W1D1_ModelTypes/solutions/W1D1_Tutorial1_Solution_2972c168.py)\n",
        "\n",
        "*Example output:*\n",
        "\n",
        "<img alt='Solution hint' align='left' width=1116.0 height=828.0 src=https://raw.githubusercontent.com/NeuromatchAcademy/course-content/main/tutorials/W1D1_ModelTypes/static/W1D1_Tutorial1_Solution_2972c168_0.png>\n",
        "\n"
      ]
    },
    {
      "cell_type": "markdown",
      "metadata": {
        "execution": {},
        "id": "WsVQ1W9e-wXp"
      },
      "source": [
        "---\n",
        "\n",
        "In general, the shorter ISIs are predominant, with counts decreasing rapidly (and smoothly, more or less) with increasing ISI. However, counts also rapidly decrease to zero with _decreasing_ ISI below the maximum of the distribution (8-11 ms). The absence of these very low ISIs agrees with the refractory period hypothesis: the neuron cannot fire quickly enough to populate this region of the ISI distribution.\n",
        "\n",
        "Check the distributions of some other neurons. To resolve various features of the distributions, you might need to play with the value of `bins` in the call to `plt.hist`. Using too few bins might smooth over interesting details, but if you use too many bins, the random variability will start to dominate.\n",
        "\n",
        "You might also want to restrict the range to see the shape of the distribution when focusing on relatively short or long ISIs. *Hint:* `plt.hist` takes a `range` argument"
      ]
    },
    {
      "cell_type": "markdown",
      "metadata": {
        "execution": {},
        "id": "o3LbXrDk-wXp"
      },
      "source": [
        "---\n",
        "\n",
        "# Section 4: What is the functional form of an ISI distribution?\n",
        "\n",
        "*Estimated timing to here from start of tutorial: 35 min*"
      ]
    },
    {
      "cell_type": "code",
      "execution_count": 28,
      "metadata": {
        "cellView": "form",
        "execution": {},
        "id": "llU2kt25-wXp",
        "outputId": "0b38d129-cf8c-4754-ced2-718e9127a274",
        "colab": {
          "base_uri": "https://localhost:8080/",
          "height": 581,
          "referenced_widgets": [
            "70ae0ed2f02044e096504da145a50393",
            "be696bacb3e04ab18b885a68ff73ee24",
            "e14921534eed4d4089aedae0c7aa355a",
            "ba008eaa098b422db65f1b3d18a680e0",
            "9fa9f845639345a4bee58dc46d1a4bd1",
            "a34a0f7cf77f4d4d8fe41726c2f2e10a"
          ]
        }
      },
      "outputs": [
        {
          "output_type": "display_data",
          "data": {
            "text/plain": [
              "Tab(children=(Output(), Output()), _titles={'0': 'Youtube', '1': 'Bilibili'})"
            ],
            "application/vnd.jupyter.widget-view+json": {
              "version_major": 2,
              "version_minor": 0,
              "model_id": "70ae0ed2f02044e096504da145a50393"
            }
          },
          "metadata": {}
        }
      ],
      "source": [
        "# @title Video 4: ISI distribution\n",
        "from ipywidgets import widgets\n",
        "\n",
        "out2 = widgets.Output()\n",
        "with out2:\n",
        "  from IPython.display import IFrame\n",
        "  class BiliVideo(IFrame):\n",
        "      def __init__(self, id, page=1, width=400, height=300, **kwargs):\n",
        "          self.id=id\n",
        "          src = 'https://player.bilibili.com/player.html?bvid={0}&page={1}'.format(id, page)\n",
        "          super(BiliVideo, self).__init__(src, width, height, **kwargs)\n",
        "\n",
        "  video = BiliVideo(id=\"BV1ov411B7Pm\", width=854, height=480, fs=1)\n",
        "  print('Video available at https://www.bilibili.com/video/{0}'.format(video.id))\n",
        "  display(video)\n",
        "\n",
        "out1 = widgets.Output()\n",
        "with out1:\n",
        "  from IPython.display import YouTubeVideo\n",
        "  video = YouTubeVideo(id=\"DHhM80MOTe8\", width=854, height=480, fs=1, rel=0)\n",
        "  print('Video available at https://youtube.com/watch?v=' + video.id)\n",
        "  display(video)\n",
        "\n",
        "out = widgets.Tab([out1, out2])\n",
        "out.set_title(0, 'Youtube')\n",
        "out.set_title(1, 'Bilibili')\n",
        "\n",
        "display(out)"
      ]
    },
    {
      "cell_type": "markdown",
      "metadata": {
        "execution": {},
        "id": "TJX7IBVK-wXq"
      },
      "source": [
        "The ISI histograms seem to follow continuous, monotonically decreasing functions above their maxima. The function is clearly non-linear. Could it belong to a single family of functions?\n",
        "\n",
        "To motivate the idea of using a mathematical function to explain physiological phenomena, let's define a few different function forms that we might expect the relationship to follow: exponential, inverse, and linear."
      ]
    },
    {
      "cell_type": "code",
      "execution_count": 29,
      "metadata": {
        "execution": {},
        "pycharm": {
          "name": "#%%\n"
        },
        "id": "Far9EQEf-wXq"
      },
      "outputs": [],
      "source": [
        "def exponential(xs, scale, rate, x0):\n",
        "  \"\"\"A simple parameterized exponential function, applied element-wise.\n",
        "\n",
        "  Args:\n",
        "    xs (np.ndarray or float): Input(s) to the function.\n",
        "    scale (float): Linear scaling factor.\n",
        "    rate (float): Exponential growth (positive) or decay (negative) rate.\n",
        "    x0 (float): Horizontal offset.\n",
        "\n",
        "  \"\"\"\n",
        "  ys = scale * np.exp(rate * (xs - x0))\n",
        "  return ys\n",
        "\n",
        "def inverse(xs, scale, x0):\n",
        "  \"\"\"A simple parameterized inverse function (`1/x`), applied element-wise.\n",
        "\n",
        "  Args:\n",
        "    xs (np.ndarray or float): Input(s) to the function.\n",
        "    scale (float): Linear scaling factor.\n",
        "    x0 (float): Horizontal offset.\n",
        "\n",
        "  \"\"\"\n",
        "  ys = scale / (xs - x0)\n",
        "  return ys\n",
        "\n",
        "def linear(xs, slope, y0):\n",
        "  \"\"\"A simple linear function, applied element-wise.\n",
        "\n",
        "  Args:\n",
        "    xs (np.ndarray or float): Input(s) to the function.\n",
        "    slope (float): Slope of the line.\n",
        "    y0 (float): y-intercept of the line.\n",
        "\n",
        "  \"\"\"\n",
        "  ys = slope * xs + y0\n",
        "  return ys"
      ]
    },
    {
      "cell_type": "markdown",
      "metadata": {
        "execution": {},
        "id": "9MDQgV4v-wXr"
      },
      "source": [
        "### Interactive Demo 4: ISI functions explorer\n",
        "\n",
        "Here is an interactive demo where you can vary the parameters of these functions and see how well the resulting outputs correspond to the data. Adjust the parameters by moving the sliders and see how close you can get the lines to follow the falling curve of the histogram. This will give you a taste of what you're trying to do when you *fit a model* to data.\n",
        "\n",
        "\"Interactive demo\" cells have hidden code that defines an interface where you can play with the parameters of some function using sliders. You don't need to worry about how the code works – but you do need to **run the cell** to enable the sliders.\n",
        "\n",
        "- Which type of function (exponential/inverse/linear) can you make match the data best?\n"
      ]
    },
    {
      "cell_type": "code",
      "execution_count": 30,
      "metadata": {
        "cellView": "form",
        "execution": {},
        "pycharm": {
          "name": "#%%\n"
        },
        "id": "7pY97fR1-wXr",
        "outputId": "5c091499-b274-4b5f-dfd2-4183c0c5f285",
        "colab": {
          "base_uri": "https://localhost:8080/",
          "height": 654,
          "referenced_widgets": [
            "975f542df2584eb5abfa8b11d2bdab93",
            "fb8a9af21b6940f09212b2bb3c2541ec",
            "631bbad3d9a74d148dae792bb57565da",
            "aa38c5fa94fc4fe0b07a852e76f282f8",
            "238bf89a4a6d4bbca9443629bcc00861",
            "8aba09eac4054721a997ebf30354d5cb",
            "f4d62ccdea054f97837c5460d565031a",
            "6a4256d0e1e649ae9d4f53469ec09018",
            "bbd03ffb0757497abc402f17cc606506",
            "36e9678ef80e4370a56bc78502c939a2",
            "2ba0e25eebe442338b678336c5f09f0a",
            "04a45e981ce44de981ed16b61d10cbc3",
            "9c1725ace38c4315a6a9ba36fb5827be",
            "836c318e40bb482ca262132d956a9946",
            "5bfed6c4f13445e6a95e036806269459",
            "c44169adbf0c4f009f96eedecd437f67",
            "e4ba5a9d5b294d69af2f04c27ebd26dc",
            "a2454a32af71463396f2211d5c90390e",
            "f90c7589c8314ce5996e5da0a1fee1e3",
            "6f2be01b238c452cbed37a317515593d",
            "89b9c2c682464d5aa735cc3d963d8310",
            "0f30cf491f76494ebf26287d72902254",
            "4b2e4bcd312545beb00c6a97427c1e96",
            "717a71fd32ec4c36829eb1b20b14d689",
            "b9ca056069964825a49a7fc22968cf73"
          ]
        }
      },
      "outputs": [
        {
          "output_type": "display_data",
          "data": {
            "text/plain": [
              "interactive(children=(FloatSlider(value=1000.0, description='exp_scale', max=20000.0, step=250.0), FloatSlider…"
            ],
            "application/vnd.jupyter.widget-view+json": {
              "version_major": 2,
              "version_minor": 0,
              "model_id": "975f542df2584eb5abfa8b11d2bdab93"
            }
          },
          "metadata": {}
        }
      ],
      "source": [
        "#@title\n",
        "\n",
        "#@markdown Be sure to run this cell to enable the demo\n",
        "# Don't worry about understanding this code! It's to setup an interactive plot.\n",
        "single_neuron_idx = 283\n",
        "single_neuron_spikes = spike_times[single_neuron_idx]\n",
        "single_neuron_isis = np.diff(single_neuron_spikes)\n",
        "\n",
        "counts, edges = np.histogram(\n",
        "  single_neuron_isis,\n",
        "  bins=50,\n",
        "  range=(0, single_neuron_isis.max())\n",
        ")\n",
        "\n",
        "functions = dict(\n",
        "  exponential=exponential,\n",
        "  inverse=inverse,\n",
        "  linear=linear,\n",
        ")\n",
        "\n",
        "colors = dict(\n",
        "  exponential=\"C1\",\n",
        "  inverse=\"C2\",\n",
        "  linear=\"C4\",\n",
        ")\n",
        "\n",
        "@widgets.interact(\n",
        "  exp_scale=widgets.FloatSlider(1000, min=0, max=20000, step=250),\n",
        "  exp_rate=widgets.FloatSlider(-10, min=-200, max=50, step=1),\n",
        "  exp_x0=widgets.FloatSlider(0.1, min=-0.5, max=0.5, step=0.005),\n",
        "  inv_scale=widgets.FloatSlider(1000, min=0, max=3e2, step=10),\n",
        "  inv_x0=widgets.FloatSlider(0, min=-0.2, max=0.2, step=0.01),\n",
        "  lin_slope=widgets.FloatSlider(-1e5, min=-6e5, max=1e5, step=10000),\n",
        "  lin_y0=widgets.FloatSlider(10000, min=0, max=4e4, step=1000),\n",
        ")\n",
        "def fit_plot(\n",
        "  exp_scale=1000, exp_rate=-10, exp_x0=0.1,\n",
        "  inv_scale=1000, inv_x0=0,\n",
        "  lin_slope=-1e5, lin_y0=2000,\n",
        "):\n",
        "  \"\"\"Helper function for plotting function fits with interactive sliders.\"\"\"\n",
        "  func_params = dict(\n",
        "    exponential=(exp_scale, exp_rate, exp_x0),\n",
        "    inverse=(inv_scale, inv_x0),\n",
        "    linear=(lin_slope, lin_y0),\n",
        "  )\n",
        "  f, ax = plt.subplots()\n",
        "  ax.fill_between(edges[:-1], counts, step=\"post\", alpha=.5)\n",
        "  xs = np.linspace(1e-10, edges.max())\n",
        "  for name, function in functions.items():\n",
        "    ys = function(xs, *func_params[name])\n",
        "    ax.plot(xs, ys, lw=3, color=colors[name], label=name);\n",
        "  ax.set(\n",
        "      xlim=(edges.min(), edges.max()),\n",
        "      ylim=(0, counts.max() * 1.1),\n",
        "      xlabel=\"ISI (s)\",\n",
        "      ylabel=\"Number of spikes\",\n",
        "  )\n",
        "  ax.legend()"
      ]
    },
    {
      "cell_type": "markdown",
      "metadata": {
        "execution": {},
        "id": "vLR6LScb-wXs"
      },
      "source": [
        "[*Click for solution*](https://github.com/NeuromatchAcademy/course-content/tree/main//tutorials/W1D1_ModelTypes/solutions/W1D1_Tutorial1_Solution_b6cd7761.py)\n",
        "\n"
      ]
    },
    {
      "cell_type": "code",
      "execution_count": 31,
      "metadata": {
        "cellView": "form",
        "execution": {},
        "id": "QPNOVjly-wXs",
        "outputId": "b58e0125-9063-411e-e106-1fa0c659ca24",
        "colab": {
          "base_uri": "https://localhost:8080/",
          "height": 581,
          "referenced_widgets": [
            "780f64310a2b4645839032cfbd8a3dbc",
            "1047c37ecbe74f818d055a1d6ace2158",
            "596aea14335441c6bf5161a2df7f8974",
            "2e3bb4cfc15e493a9857763620d95cf0",
            "a18ca91b2b114caa813658cf20c56909",
            "edacc8566389412fbba8a7a82b0518a3"
          ]
        }
      },
      "outputs": [
        {
          "output_type": "display_data",
          "data": {
            "text/plain": [
              "Tab(children=(Output(), Output()), _titles={'0': 'Youtube', '1': 'Bilibili'})"
            ],
            "application/vnd.jupyter.widget-view+json": {
              "version_major": 2,
              "version_minor": 0,
              "model_id": "780f64310a2b4645839032cfbd8a3dbc"
            }
          },
          "metadata": {}
        }
      ],
      "source": [
        "# @title Video 5: Fitting models by hand\n",
        "from ipywidgets import widgets\n",
        "\n",
        "out2 = widgets.Output()\n",
        "with out2:\n",
        "  from IPython.display import IFrame\n",
        "  class BiliVideo(IFrame):\n",
        "      def __init__(self, id, page=1, width=400, height=300, **kwargs):\n",
        "          self.id=id\n",
        "          src = 'https://player.bilibili.com/player.html?bvid={0}&page={1}'.format(id, page)\n",
        "          super(BiliVideo, self).__init__(src, width, height, **kwargs)\n",
        "\n",
        "  video = BiliVideo(id=\"BV1w54y1S7Eb\", width=854, height=480, fs=1)\n",
        "  print('Video available at https://www.bilibili.com/video/{0}'.format(video.id))\n",
        "  display(video)\n",
        "\n",
        "out1 = widgets.Output()\n",
        "with out1:\n",
        "  from IPython.display import YouTubeVideo\n",
        "  video = YouTubeVideo(id=\"uW2HDk_4-wk\", width=854, height=480, fs=1, rel=0)\n",
        "  print('Video available at https://youtube.com/watch?v=' + video.id)\n",
        "  display(video)\n",
        "\n",
        "out = widgets.Tab([out1, out2])\n",
        "out.set_title(0, 'Youtube')\n",
        "out.set_title(1, 'Bilibili')\n",
        "\n",
        "display(out)"
      ]
    },
    {
      "cell_type": "markdown",
      "metadata": {
        "execution": {},
        "id": "DXJJNpUq-wXs"
      },
      "source": [
        "---\n",
        "# Section 5: Reflecting on what models\n",
        "\n",
        "*Estimated timing to here from start of tutorial: 40 min*"
      ]
    },
    {
      "cell_type": "markdown",
      "metadata": {
        "execution": {},
        "id": "mK3ppYMB-wXs"
      },
      "source": [
        "## Think! 5: Reflecting on what models\n",
        "\n",
        "Please discuss the following questions for around 10 minutes with your group:\n",
        "- Have you seen what models before?\n",
        "- Have you ever done one?\n",
        "- Why are what models useful?\n",
        "- When are they possible? Does your field have what models?\n",
        "- What do we learn from constructing them?"
      ]
    },
    {
      "cell_type": "markdown",
      "metadata": {
        "execution": {},
        "id": "QnZvU0xg-wXt"
      },
      "source": [
        "---\n",
        "# Summary\n",
        "\n",
        "*Estimated timing of tutorial: 50 minutes*\n",
        "\n",
        "In this tutorial, we loaded some neural data and poked at it to understand how the dataset is organized. Then we made some basic plots to visualize (1) the average level of activity across the population and (2) the distribution of ISIs for an individual neuron. In the very last bit, we started to think about using mathematical formalisms to understand or explain some physiological phenomenon. All of this only allowed us to understand \"What\" the data looks like.\n",
        "\n",
        "This is the first step towards developing models that can tell us something about the brain. That's what we'll focus on in the next two tutorials."
      ]
    }
  ],
  "metadata": {
    "colab": {
      "collapsed_sections": [],
      "name": "W1D1_Tutorial1",
      "provenance": [],
      "toc_visible": true,
      "include_colab_link": true
    },
    "kernel": {
      "display_name": "Python 3",
      "language": "python",
      "name": "python3"
    },
    "kernelspec": {
      "display_name": "Python 3",
      "name": "python3"
    },
    "language_info": {
      "codemirror_mode": {
        "name": "ipython",
        "version": 3
      },
      "file_extension": ".py",
      "mimetype": "text/x-python",
      "name": "python",
      "nbconvert_exporter": "python",
      "pygments_lexer": "ipython3",
      "version": "3.7.13"
    },
    "widgets": {
      "application/vnd.jupyter.widget-state+json": {
        "a4cd503ee43040e89eb19eb064fd63cc": {
          "model_module": "@jupyter-widgets/controls",
          "model_name": "TabModel",
          "model_module_version": "1.5.0",
          "state": {
            "_dom_classes": [],
            "_model_module": "@jupyter-widgets/controls",
            "_model_module_version": "1.5.0",
            "_model_name": "TabModel",
            "_titles": {
              "0": "Youtube",
              "1": "Bilibili"
            },
            "_view_count": null,
            "_view_module": "@jupyter-widgets/controls",
            "_view_module_version": "1.5.0",
            "_view_name": "TabView",
            "box_style": "",
            "children": [
              "IPY_MODEL_2fd6e0341a8e412bafe45418d8ea6ea4",
              "IPY_MODEL_1abaee8d4a054f2c9d601824da7b226e"
            ],
            "layout": "IPY_MODEL_76315671e1c649be86a162c678287402",
            "selected_index": 0
          }
        },
        "2fd6e0341a8e412bafe45418d8ea6ea4": {
          "model_module": "@jupyter-widgets/output",
          "model_name": "OutputModel",
          "model_module_version": "1.0.0",
          "state": {
            "_dom_classes": [],
            "_model_module": "@jupyter-widgets/output",
            "_model_module_version": "1.0.0",
            "_model_name": "OutputModel",
            "_view_count": null,
            "_view_module": "@jupyter-widgets/output",
            "_view_module_version": "1.0.0",
            "_view_name": "OutputView",
            "layout": "IPY_MODEL_dc6ae570883b43b0a8c2d3228dfcdd1e",
            "msg_id": "",
            "outputs": [
              {
                "output_type": "stream",
                "name": "stdout",
                "text": [
                  "Video available at https://youtube.com/watch?v=KgqR_jbjMQg\n"
                ]
              },
              {
                "output_type": "display_data",
                "data": {
                  "text/plain": "<IPython.lib.display.YouTubeVideo at 0x7feeb65e6a10>",
                  "text/html": "\n        <iframe\n            width=\"854\"\n            height=\"480\"\n            src=\"https://www.youtube.com/embed/KgqR_jbjMQg?fs=1&rel=0\"\n            frameborder=\"0\"\n            allowfullscreen\n        ></iframe>\n        ",
                  "image/jpeg": "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\n"
                },
                "metadata": {}
              }
            ]
          }
        },
        "1abaee8d4a054f2c9d601824da7b226e": {
          "model_module": "@jupyter-widgets/output",
          "model_name": "OutputModel",
          "model_module_version": "1.0.0",
          "state": {
            "_dom_classes": [],
            "_model_module": "@jupyter-widgets/output",
            "_model_module_version": "1.0.0",
            "_model_name": "OutputModel",
            "_view_count": null,
            "_view_module": "@jupyter-widgets/output",
            "_view_module_version": "1.0.0",
            "_view_name": "OutputView",
            "layout": "IPY_MODEL_bb4c0b89673b4313a8058637bfd483b2",
            "msg_id": "",
            "outputs": [
              {
                "output_type": "stream",
                "name": "stdout",
                "text": [
                  "Video available at https://www.bilibili.com/video/BV1mz4y1X7ot\n"
                ]
              },
              {
                "output_type": "display_data",
                "data": {
                  "text/plain": "<__main__.BiliVideo at 0x7feeb65e6850>",
                  "text/html": "\n        <iframe\n            width=\"854\"\n            height=\"480\"\n            src=\"https://player.bilibili.com/player.html?bvid=BV1mz4y1X7ot&page=1?fs=1\"\n            frameborder=\"0\"\n            allowfullscreen\n        ></iframe>\n        "
                },
                "metadata": {}
              }
            ]
          }
        },
        "76315671e1c649be86a162c678287402": {
          "model_module": "@jupyter-widgets/base",
          "model_name": "LayoutModel",
          "model_module_version": "1.2.0",
          "state": {
            "_model_module": "@jupyter-widgets/base",
            "_model_module_version": "1.2.0",
            "_model_name": "LayoutModel",
            "_view_count": null,
            "_view_module": "@jupyter-widgets/base",
            "_view_module_version": "1.2.0",
            "_view_name": "LayoutView",
            "align_content": null,
            "align_items": null,
            "align_self": null,
            "border": null,
            "bottom": null,
            "display": null,
            "flex": null,
            "flex_flow": null,
            "grid_area": null,
            "grid_auto_columns": null,
            "grid_auto_flow": null,
            "grid_auto_rows": null,
            "grid_column": null,
            "grid_gap": null,
            "grid_row": null,
            "grid_template_areas": null,
            "grid_template_columns": null,
            "grid_template_rows": null,
            "height": null,
            "justify_content": null,
            "justify_items": null,
            "left": null,
            "margin": null,
            "max_height": null,
            "max_width": null,
            "min_height": null,
            "min_width": null,
            "object_fit": null,
            "object_position": null,
            "order": null,
            "overflow": null,
            "overflow_x": null,
            "overflow_y": null,
            "padding": null,
            "right": null,
            "top": null,
            "visibility": null,
            "width": null
          }
        },
        "dc6ae570883b43b0a8c2d3228dfcdd1e": {
          "model_module": "@jupyter-widgets/base",
          "model_name": "LayoutModel",
          "model_module_version": "1.2.0",
          "state": {
            "_model_module": "@jupyter-widgets/base",
            "_model_module_version": "1.2.0",
            "_model_name": "LayoutModel",
            "_view_count": null,
            "_view_module": "@jupyter-widgets/base",
            "_view_module_version": "1.2.0",
            "_view_name": "LayoutView",
            "align_content": null,
            "align_items": null,
            "align_self": null,
            "border": null,
            "bottom": null,
            "display": null,
            "flex": null,
            "flex_flow": null,
            "grid_area": null,
            "grid_auto_columns": null,
            "grid_auto_flow": null,
            "grid_auto_rows": null,
            "grid_column": null,
            "grid_gap": null,
            "grid_row": null,
            "grid_template_areas": null,
            "grid_template_columns": null,
            "grid_template_rows": null,
            "height": null,
            "justify_content": null,
            "justify_items": null,
            "left": null,
            "margin": null,
            "max_height": null,
            "max_width": null,
            "min_height": null,
            "min_width": null,
            "object_fit": null,
            "object_position": null,
            "order": null,
            "overflow": null,
            "overflow_x": null,
            "overflow_y": null,
            "padding": null,
            "right": null,
            "top": null,
            "visibility": null,
            "width": null
          }
        },
        "bb4c0b89673b4313a8058637bfd483b2": {
          "model_module": "@jupyter-widgets/base",
          "model_name": "LayoutModel",
          "model_module_version": "1.2.0",
          "state": {
            "_model_module": "@jupyter-widgets/base",
            "_model_module_version": "1.2.0",
            "_model_name": "LayoutModel",
            "_view_count": null,
            "_view_module": "@jupyter-widgets/base",
            "_view_module_version": "1.2.0",
            "_view_name": "LayoutView",
            "align_content": null,
            "align_items": null,
            "align_self": null,
            "border": null,
            "bottom": null,
            "display": null,
            "flex": null,
            "flex_flow": null,
            "grid_area": null,
            "grid_auto_columns": null,
            "grid_auto_flow": null,
            "grid_auto_rows": null,
            "grid_column": null,
            "grid_gap": null,
            "grid_row": null,
            "grid_template_areas": null,
            "grid_template_columns": null,
            "grid_template_rows": null,
            "height": null,
            "justify_content": null,
            "justify_items": null,
            "left": null,
            "margin": null,
            "max_height": null,
            "max_width": null,
            "min_height": null,
            "min_width": null,
            "object_fit": null,
            "object_position": null,
            "order": null,
            "overflow": null,
            "overflow_x": null,
            "overflow_y": null,
            "padding": null,
            "right": null,
            "top": null,
            "visibility": null,
            "width": null
          }
        },
        "1b74db50d7b4419a8445bc1f0f3d61a1": {
          "model_module": "@jupyter-widgets/controls",
          "model_name": "TabModel",
          "model_module_version": "1.5.0",
          "state": {
            "_dom_classes": [],
            "_model_module": "@jupyter-widgets/controls",
            "_model_module_version": "1.5.0",
            "_model_name": "TabModel",
            "_titles": {
              "0": "Youtube",
              "1": "Bilibili"
            },
            "_view_count": null,
            "_view_module": "@jupyter-widgets/controls",
            "_view_module_version": "1.5.0",
            "_view_name": "TabView",
            "box_style": "",
            "children": [
              "IPY_MODEL_0794db2843f849a3a37594d06d7049f1",
              "IPY_MODEL_7f568e80c23d4bb6938490a23ba049c6"
            ],
            "layout": "IPY_MODEL_e8584ea8a682414d8a78182e6b28d9e4",
            "selected_index": 0
          }
        },
        "0794db2843f849a3a37594d06d7049f1": {
          "model_module": "@jupyter-widgets/output",
          "model_name": "OutputModel",
          "model_module_version": "1.0.0",
          "state": {
            "_dom_classes": [],
            "_model_module": "@jupyter-widgets/output",
            "_model_module_version": "1.0.0",
            "_model_name": "OutputModel",
            "_view_count": null,
            "_view_module": "@jupyter-widgets/output",
            "_view_module_version": "1.0.0",
            "_view_name": "OutputView",
            "layout": "IPY_MODEL_23bd692faa594ab19dd374a075ac1ad9",
            "msg_id": "",
            "outputs": [
              {
                "output_type": "stream",
                "name": "stdout",
                "text": [
                  "Video available at https://youtube.com/watch?v=oHwYWUI_o1U\n"
                ]
              },
              {
                "output_type": "display_data",
                "data": {
                  "text/plain": "<IPython.lib.display.YouTubeVideo at 0x7feeb2452850>",
                  "text/html": "\n        <iframe\n            width=\"854\"\n            height=\"480\"\n            src=\"https://www.youtube.com/embed/oHwYWUI_o1U?fs=1&rel=0\"\n            frameborder=\"0\"\n            allowfullscreen\n        ></iframe>\n        ",
                  "image/jpeg": "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\n"
                },
                "metadata": {}
              }
            ]
          }
        },
        "7f568e80c23d4bb6938490a23ba049c6": {
          "model_module": "@jupyter-widgets/output",
          "model_name": "OutputModel",
          "model_module_version": "1.0.0",
          "state": {
            "_dom_classes": [],
            "_model_module": "@jupyter-widgets/output",
            "_model_module_version": "1.0.0",
            "_model_name": "OutputModel",
            "_view_count": null,
            "_view_module": "@jupyter-widgets/output",
            "_view_module_version": "1.0.0",
            "_view_name": "OutputView",
            "layout": "IPY_MODEL_1dd91a7b3ce6424a83059ed9aa5b1cc8",
            "msg_id": "",
            "outputs": [
              {
                "output_type": "stream",
                "name": "stdout",
                "text": [
                  "Video available at https://www.bilibili.com/video/BV1Hp4y1S7Au\n"
                ]
              },
              {
                "output_type": "display_data",
                "data": {
                  "text/plain": "<__main__.BiliVideo at 0x7feeb24529d0>",
                  "text/html": "\n        <iframe\n            width=\"854\"\n            height=\"480\"\n            src=\"https://player.bilibili.com/player.html?bvid=BV1Hp4y1S7Au&page=1?fs=1\"\n            frameborder=\"0\"\n            allowfullscreen\n        ></iframe>\n        "
                },
                "metadata": {}
              }
            ]
          }
        },
        "e8584ea8a682414d8a78182e6b28d9e4": {
          "model_module": "@jupyter-widgets/base",
          "model_name": "LayoutModel",
          "model_module_version": "1.2.0",
          "state": {
            "_model_module": "@jupyter-widgets/base",
            "_model_module_version": "1.2.0",
            "_model_name": "LayoutModel",
            "_view_count": null,
            "_view_module": "@jupyter-widgets/base",
            "_view_module_version": "1.2.0",
            "_view_name": "LayoutView",
            "align_content": null,
            "align_items": null,
            "align_self": null,
            "border": null,
            "bottom": null,
            "display": null,
            "flex": null,
            "flex_flow": null,
            "grid_area": null,
            "grid_auto_columns": null,
            "grid_auto_flow": null,
            "grid_auto_rows": null,
            "grid_column": null,
            "grid_gap": null,
            "grid_row": null,
            "grid_template_areas": null,
            "grid_template_columns": null,
            "grid_template_rows": null,
            "height": null,
            "justify_content": null,
            "justify_items": null,
            "left": null,
            "margin": null,
            "max_height": null,
            "max_width": null,
            "min_height": null,
            "min_width": null,
            "object_fit": null,
            "object_position": null,
            "order": null,
            "overflow": null,
            "overflow_x": null,
            "overflow_y": null,
            "padding": null,
            "right": null,
            "top": null,
            "visibility": null,
            "width": null
          }
        },
        "23bd692faa594ab19dd374a075ac1ad9": {
          "model_module": "@jupyter-widgets/base",
          "model_name": "LayoutModel",
          "model_module_version": "1.2.0",
          "state": {
            "_model_module": "@jupyter-widgets/base",
            "_model_module_version": "1.2.0",
            "_model_name": "LayoutModel",
            "_view_count": null,
            "_view_module": "@jupyter-widgets/base",
            "_view_module_version": "1.2.0",
            "_view_name": "LayoutView",
            "align_content": null,
            "align_items": null,
            "align_self": null,
            "border": null,
            "bottom": null,
            "display": null,
            "flex": null,
            "flex_flow": null,
            "grid_area": null,
            "grid_auto_columns": null,
            "grid_auto_flow": null,
            "grid_auto_rows": null,
            "grid_column": null,
            "grid_gap": null,
            "grid_row": null,
            "grid_template_areas": null,
            "grid_template_columns": null,
            "grid_template_rows": null,
            "height": null,
            "justify_content": null,
            "justify_items": null,
            "left": null,
            "margin": null,
            "max_height": null,
            "max_width": null,
            "min_height": null,
            "min_width": null,
            "object_fit": null,
            "object_position": null,
            "order": null,
            "overflow": null,
            "overflow_x": null,
            "overflow_y": null,
            "padding": null,
            "right": null,
            "top": null,
            "visibility": null,
            "width": null
          }
        },
        "1dd91a7b3ce6424a83059ed9aa5b1cc8": {
          "model_module": "@jupyter-widgets/base",
          "model_name": "LayoutModel",
          "model_module_version": "1.2.0",
          "state": {
            "_model_module": "@jupyter-widgets/base",
            "_model_module_version": "1.2.0",
            "_model_name": "LayoutModel",
            "_view_count": null,
            "_view_module": "@jupyter-widgets/base",
            "_view_module_version": "1.2.0",
            "_view_name": "LayoutView",
            "align_content": null,
            "align_items": null,
            "align_self": null,
            "border": null,
            "bottom": null,
            "display": null,
            "flex": null,
            "flex_flow": null,
            "grid_area": null,
            "grid_auto_columns": null,
            "grid_auto_flow": null,
            "grid_auto_rows": null,
            "grid_column": null,
            "grid_gap": null,
            "grid_row": null,
            "grid_template_areas": null,
            "grid_template_columns": null,
            "grid_template_rows": null,
            "height": null,
            "justify_content": null,
            "justify_items": null,
            "left": null,
            "margin": null,
            "max_height": null,
            "max_width": null,
            "min_height": null,
            "min_width": null,
            "object_fit": null,
            "object_position": null,
            "order": null,
            "overflow": null,
            "overflow_x": null,
            "overflow_y": null,
            "padding": null,
            "right": null,
            "top": null,
            "visibility": null,
            "width": null
          }
        },
        "6d2258f69ebb43a7b299b6dc1354bc68": {
          "model_module": "@jupyter-widgets/controls",
          "model_name": "TabModel",
          "model_module_version": "1.5.0",
          "state": {
            "_dom_classes": [],
            "_model_module": "@jupyter-widgets/controls",
            "_model_module_version": "1.5.0",
            "_model_name": "TabModel",
            "_titles": {
              "0": "Youtube",
              "1": "Bilibili"
            },
            "_view_count": null,
            "_view_module": "@jupyter-widgets/controls",
            "_view_module_version": "1.5.0",
            "_view_name": "TabView",
            "box_style": "",
            "children": [
              "IPY_MODEL_3af1bd73f5f24a47bec3e5a1949f01d6",
              "IPY_MODEL_181e85cc70fd4c20b6a438fab349d2de"
            ],
            "layout": "IPY_MODEL_ed80bce4d25245fc8c2042fad9c58083",
            "selected_index": 0
          }
        },
        "3af1bd73f5f24a47bec3e5a1949f01d6": {
          "model_module": "@jupyter-widgets/output",
          "model_name": "OutputModel",
          "model_module_version": "1.0.0",
          "state": {
            "_dom_classes": [],
            "_model_module": "@jupyter-widgets/output",
            "_model_module_version": "1.0.0",
            "_model_name": "OutputModel",
            "_view_count": null,
            "_view_module": "@jupyter-widgets/output",
            "_view_module_version": "1.0.0",
            "_view_name": "OutputView",
            "layout": "IPY_MODEL_88f4e44e56484378ae2244b5d905bbbe",
            "msg_id": "",
            "outputs": [
              {
                "output_type": "stream",
                "name": "stdout",
                "text": [
                  "Video available at https://youtube.com/watch?v=QGA5FCW7kkA\n"
                ]
              },
              {
                "output_type": "display_data",
                "data": {
                  "text/plain": "<IPython.lib.display.YouTubeVideo at 0x7feeafa53050>",
                  "text/html": "\n        <iframe\n            width=\"854\"\n            height=\"480\"\n            src=\"https://www.youtube.com/embed/QGA5FCW7kkA?fs=1&rel=0\"\n            frameborder=\"0\"\n            allowfullscreen\n        ></iframe>\n        ",
                  "image/jpeg": "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\n"
                },
                "metadata": {}
              }
            ]
          }
        },
        "181e85cc70fd4c20b6a438fab349d2de": {
          "model_module": "@jupyter-widgets/output",
          "model_name": "OutputModel",
          "model_module_version": "1.0.0",
          "state": {
            "_dom_classes": [],
            "_model_module": "@jupyter-widgets/output",
            "_model_module_version": "1.0.0",
            "_model_name": "OutputModel",
            "_view_count": null,
            "_view_module": "@jupyter-widgets/output",
            "_view_module_version": "1.0.0",
            "_view_name": "OutputView",
            "layout": "IPY_MODEL_2f8a13b69b684ef6a35ab4649afad971",
            "msg_id": "",
            "outputs": [
              {
                "output_type": "stream",
                "name": "stdout",
                "text": [
                  "Video available at https://www.bilibili.com/video/BV1dt4y1Q7C5\n"
                ]
              },
              {
                "output_type": "display_data",
                "data": {
                  "text/plain": "<__main__.BiliVideo at 0x7feeafaac190>",
                  "text/html": "\n        <iframe\n            width=\"854\"\n            height=\"480\"\n            src=\"https://player.bilibili.com/player.html?bvid=BV1dt4y1Q7C5&page=1?fs=1\"\n            frameborder=\"0\"\n            allowfullscreen\n        ></iframe>\n        "
                },
                "metadata": {}
              }
            ]
          }
        },
        "ed80bce4d25245fc8c2042fad9c58083": {
          "model_module": "@jupyter-widgets/base",
          "model_name": "LayoutModel",
          "model_module_version": "1.2.0",
          "state": {
            "_model_module": "@jupyter-widgets/base",
            "_model_module_version": "1.2.0",
            "_model_name": "LayoutModel",
            "_view_count": null,
            "_view_module": "@jupyter-widgets/base",
            "_view_module_version": "1.2.0",
            "_view_name": "LayoutView",
            "align_content": null,
            "align_items": null,
            "align_self": null,
            "border": null,
            "bottom": null,
            "display": null,
            "flex": null,
            "flex_flow": null,
            "grid_area": null,
            "grid_auto_columns": null,
            "grid_auto_flow": null,
            "grid_auto_rows": null,
            "grid_column": null,
            "grid_gap": null,
            "grid_row": null,
            "grid_template_areas": null,
            "grid_template_columns": null,
            "grid_template_rows": null,
            "height": null,
            "justify_content": null,
            "justify_items": null,
            "left": null,
            "margin": null,
            "max_height": null,
            "max_width": null,
            "min_height": null,
            "min_width": null,
            "object_fit": null,
            "object_position": null,
            "order": null,
            "overflow": null,
            "overflow_x": null,
            "overflow_y": null,
            "padding": null,
            "right": null,
            "top": null,
            "visibility": null,
            "width": null
          }
        },
        "88f4e44e56484378ae2244b5d905bbbe": {
          "model_module": "@jupyter-widgets/base",
          "model_name": "LayoutModel",
          "model_module_version": "1.2.0",
          "state": {
            "_model_module": "@jupyter-widgets/base",
            "_model_module_version": "1.2.0",
            "_model_name": "LayoutModel",
            "_view_count": null,
            "_view_module": "@jupyter-widgets/base",
            "_view_module_version": "1.2.0",
            "_view_name": "LayoutView",
            "align_content": null,
            "align_items": null,
            "align_self": null,
            "border": null,
            "bottom": null,
            "display": null,
            "flex": null,
            "flex_flow": null,
            "grid_area": null,
            "grid_auto_columns": null,
            "grid_auto_flow": null,
            "grid_auto_rows": null,
            "grid_column": null,
            "grid_gap": null,
            "grid_row": null,
            "grid_template_areas": null,
            "grid_template_columns": null,
            "grid_template_rows": null,
            "height": null,
            "justify_content": null,
            "justify_items": null,
            "left": null,
            "margin": null,
            "max_height": null,
            "max_width": null,
            "min_height": null,
            "min_width": null,
            "object_fit": null,
            "object_position": null,
            "order": null,
            "overflow": null,
            "overflow_x": null,
            "overflow_y": null,
            "padding": null,
            "right": null,
            "top": null,
            "visibility": null,
            "width": null
          }
        },
        "2f8a13b69b684ef6a35ab4649afad971": {
          "model_module": "@jupyter-widgets/base",
          "model_name": "LayoutModel",
          "model_module_version": "1.2.0",
          "state": {
            "_model_module": "@jupyter-widgets/base",
            "_model_module_version": "1.2.0",
            "_model_name": "LayoutModel",
            "_view_count": null,
            "_view_module": "@jupyter-widgets/base",
            "_view_module_version": "1.2.0",
            "_view_name": "LayoutView",
            "align_content": null,
            "align_items": null,
            "align_self": null,
            "border": null,
            "bottom": null,
            "display": null,
            "flex": null,
            "flex_flow": null,
            "grid_area": null,
            "grid_auto_columns": null,
            "grid_auto_flow": null,
            "grid_auto_rows": null,
            "grid_column": null,
            "grid_gap": null,
            "grid_row": null,
            "grid_template_areas": null,
            "grid_template_columns": null,
            "grid_template_rows": null,
            "height": null,
            "justify_content": null,
            "justify_items": null,
            "left": null,
            "margin": null,
            "max_height": null,
            "max_width": null,
            "min_height": null,
            "min_width": null,
            "object_fit": null,
            "object_position": null,
            "order": null,
            "overflow": null,
            "overflow_x": null,
            "overflow_y": null,
            "padding": null,
            "right": null,
            "top": null,
            "visibility": null,
            "width": null
          }
        },
        "70ae0ed2f02044e096504da145a50393": {
          "model_module": "@jupyter-widgets/controls",
          "model_name": "TabModel",
          "model_module_version": "1.5.0",
          "state": {
            "_dom_classes": [],
            "_model_module": "@jupyter-widgets/controls",
            "_model_module_version": "1.5.0",
            "_model_name": "TabModel",
            "_titles": {
              "0": "Youtube",
              "1": "Bilibili"
            },
            "_view_count": null,
            "_view_module": "@jupyter-widgets/controls",
            "_view_module_version": "1.5.0",
            "_view_name": "TabView",
            "box_style": "",
            "children": [
              "IPY_MODEL_be696bacb3e04ab18b885a68ff73ee24",
              "IPY_MODEL_e14921534eed4d4089aedae0c7aa355a"
            ],
            "layout": "IPY_MODEL_ba008eaa098b422db65f1b3d18a680e0",
            "selected_index": 0
          }
        },
        "be696bacb3e04ab18b885a68ff73ee24": {
          "model_module": "@jupyter-widgets/output",
          "model_name": "OutputModel",
          "model_module_version": "1.0.0",
          "state": {
            "_dom_classes": [],
            "_model_module": "@jupyter-widgets/output",
            "_model_module_version": "1.0.0",
            "_model_name": "OutputModel",
            "_view_count": null,
            "_view_module": "@jupyter-widgets/output",
            "_view_module_version": "1.0.0",
            "_view_name": "OutputView",
            "layout": "IPY_MODEL_9fa9f845639345a4bee58dc46d1a4bd1",
            "msg_id": "",
            "outputs": [
              {
                "output_type": "stream",
                "name": "stdout",
                "text": [
                  "Video available at https://youtube.com/watch?v=DHhM80MOTe8\n"
                ]
              },
              {
                "output_type": "display_data",
                "data": {
                  "text/plain": "<IPython.lib.display.YouTubeVideo at 0x7feeaf9d0d50>",
                  "text/html": "\n        <iframe\n            width=\"854\"\n            height=\"480\"\n            src=\"https://www.youtube.com/embed/DHhM80MOTe8?fs=1&rel=0\"\n            frameborder=\"0\"\n            allowfullscreen\n        ></iframe>\n        ",
                  "image/jpeg": "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\n"
                },
                "metadata": {}
              }
            ]
          }
        },
        "e14921534eed4d4089aedae0c7aa355a": {
          "model_module": "@jupyter-widgets/output",
          "model_name": "OutputModel",
          "model_module_version": "1.0.0",
          "state": {
            "_dom_classes": [],
            "_model_module": "@jupyter-widgets/output",
            "_model_module_version": "1.0.0",
            "_model_name": "OutputModel",
            "_view_count": null,
            "_view_module": "@jupyter-widgets/output",
            "_view_module_version": "1.0.0",
            "_view_name": "OutputView",
            "layout": "IPY_MODEL_a34a0f7cf77f4d4d8fe41726c2f2e10a",
            "msg_id": "",
            "outputs": [
              {
                "output_type": "stream",
                "name": "stdout",
                "text": [
                  "Video available at https://www.bilibili.com/video/BV1ov411B7Pm\n"
                ]
              },
              {
                "output_type": "display_data",
                "data": {
                  "text/plain": "<__main__.BiliVideo at 0x7feeafab3c90>",
                  "text/html": "\n        <iframe\n            width=\"854\"\n            height=\"480\"\n            src=\"https://player.bilibili.com/player.html?bvid=BV1ov411B7Pm&page=1?fs=1\"\n            frameborder=\"0\"\n            allowfullscreen\n        ></iframe>\n        "
                },
                "metadata": {}
              }
            ]
          }
        },
        "ba008eaa098b422db65f1b3d18a680e0": {
          "model_module": "@jupyter-widgets/base",
          "model_name": "LayoutModel",
          "model_module_version": "1.2.0",
          "state": {
            "_model_module": "@jupyter-widgets/base",
            "_model_module_version": "1.2.0",
            "_model_name": "LayoutModel",
            "_view_count": null,
            "_view_module": "@jupyter-widgets/base",
            "_view_module_version": "1.2.0",
            "_view_name": "LayoutView",
            "align_content": null,
            "align_items": null,
            "align_self": null,
            "border": null,
            "bottom": null,
            "display": null,
            "flex": null,
            "flex_flow": null,
            "grid_area": null,
            "grid_auto_columns": null,
            "grid_auto_flow": null,
            "grid_auto_rows": null,
            "grid_column": null,
            "grid_gap": null,
            "grid_row": null,
            "grid_template_areas": null,
            "grid_template_columns": null,
            "grid_template_rows": null,
            "height": null,
            "justify_content": null,
            "justify_items": null,
            "left": null,
            "margin": null,
            "max_height": null,
            "max_width": null,
            "min_height": null,
            "min_width": null,
            "object_fit": null,
            "object_position": null,
            "order": null,
            "overflow": null,
            "overflow_x": null,
            "overflow_y": null,
            "padding": null,
            "right": null,
            "top": null,
            "visibility": null,
            "width": null
          }
        },
        "9fa9f845639345a4bee58dc46d1a4bd1": {
          "model_module": "@jupyter-widgets/base",
          "model_name": "LayoutModel",
          "model_module_version": "1.2.0",
          "state": {
            "_model_module": "@jupyter-widgets/base",
            "_model_module_version": "1.2.0",
            "_model_name": "LayoutModel",
            "_view_count": null,
            "_view_module": "@jupyter-widgets/base",
            "_view_module_version": "1.2.0",
            "_view_name": "LayoutView",
            "align_content": null,
            "align_items": null,
            "align_self": null,
            "border": null,
            "bottom": null,
            "display": null,
            "flex": null,
            "flex_flow": null,
            "grid_area": null,
            "grid_auto_columns": null,
            "grid_auto_flow": null,
            "grid_auto_rows": null,
            "grid_column": null,
            "grid_gap": null,
            "grid_row": null,
            "grid_template_areas": null,
            "grid_template_columns": null,
            "grid_template_rows": null,
            "height": null,
            "justify_content": null,
            "justify_items": null,
            "left": null,
            "margin": null,
            "max_height": null,
            "max_width": null,
            "min_height": null,
            "min_width": null,
            "object_fit": null,
            "object_position": null,
            "order": null,
            "overflow": null,
            "overflow_x": null,
            "overflow_y": null,
            "padding": null,
            "right": null,
            "top": null,
            "visibility": null,
            "width": null
          }
        },
        "a34a0f7cf77f4d4d8fe41726c2f2e10a": {
          "model_module": "@jupyter-widgets/base",
          "model_name": "LayoutModel",
          "model_module_version": "1.2.0",
          "state": {
            "_model_module": "@jupyter-widgets/base",
            "_model_module_version": "1.2.0",
            "_model_name": "LayoutModel",
            "_view_count": null,
            "_view_module": "@jupyter-widgets/base",
            "_view_module_version": "1.2.0",
            "_view_name": "LayoutView",
            "align_content": null,
            "align_items": null,
            "align_self": null,
            "border": null,
            "bottom": null,
            "display": null,
            "flex": null,
            "flex_flow": null,
            "grid_area": null,
            "grid_auto_columns": null,
            "grid_auto_flow": null,
            "grid_auto_rows": null,
            "grid_column": null,
            "grid_gap": null,
            "grid_row": null,
            "grid_template_areas": null,
            "grid_template_columns": null,
            "grid_template_rows": null,
            "height": null,
            "justify_content": null,
            "justify_items": null,
            "left": null,
            "margin": null,
            "max_height": null,
            "max_width": null,
            "min_height": null,
            "min_width": null,
            "object_fit": null,
            "object_position": null,
            "order": null,
            "overflow": null,
            "overflow_x": null,
            "overflow_y": null,
            "padding": null,
            "right": null,
            "top": null,
            "visibility": null,
            "width": null
          }
        },
        "975f542df2584eb5abfa8b11d2bdab93": {
          "model_module": "@jupyter-widgets/controls",
          "model_name": "VBoxModel",
          "model_module_version": "1.5.0",
          "state": {
            "_dom_classes": [
              "widget-interact"
            ],
            "_model_module": "@jupyter-widgets/controls",
            "_model_module_version": "1.5.0",
            "_model_name": "VBoxModel",
            "_view_count": null,
            "_view_module": "@jupyter-widgets/controls",
            "_view_module_version": "1.5.0",
            "_view_name": "VBoxView",
            "box_style": "",
            "children": [
              "IPY_MODEL_fb8a9af21b6940f09212b2bb3c2541ec",
              "IPY_MODEL_631bbad3d9a74d148dae792bb57565da",
              "IPY_MODEL_aa38c5fa94fc4fe0b07a852e76f282f8",
              "IPY_MODEL_238bf89a4a6d4bbca9443629bcc00861",
              "IPY_MODEL_8aba09eac4054721a997ebf30354d5cb",
              "IPY_MODEL_f4d62ccdea054f97837c5460d565031a",
              "IPY_MODEL_6a4256d0e1e649ae9d4f53469ec09018",
              "IPY_MODEL_bbd03ffb0757497abc402f17cc606506"
            ],
            "layout": "IPY_MODEL_36e9678ef80e4370a56bc78502c939a2"
          }
        },
        "fb8a9af21b6940f09212b2bb3c2541ec": {
          "model_module": "@jupyter-widgets/controls",
          "model_name": "FloatSliderModel",
          "model_module_version": "1.5.0",
          "state": {
            "_dom_classes": [],
            "_model_module": "@jupyter-widgets/controls",
            "_model_module_version": "1.5.0",
            "_model_name": "FloatSliderModel",
            "_view_count": null,
            "_view_module": "@jupyter-widgets/controls",
            "_view_module_version": "1.5.0",
            "_view_name": "FloatSliderView",
            "continuous_update": true,
            "description": "exp_scale",
            "description_tooltip": null,
            "disabled": false,
            "layout": "IPY_MODEL_2ba0e25eebe442338b678336c5f09f0a",
            "max": 20000,
            "min": 0,
            "orientation": "horizontal",
            "readout": true,
            "readout_format": ".2f",
            "step": 250,
            "style": "IPY_MODEL_04a45e981ce44de981ed16b61d10cbc3",
            "value": 6250
          }
        },
        "631bbad3d9a74d148dae792bb57565da": {
          "model_module": "@jupyter-widgets/controls",
          "model_name": "FloatSliderModel",
          "model_module_version": "1.5.0",
          "state": {
            "_dom_classes": [],
            "_model_module": "@jupyter-widgets/controls",
            "_model_module_version": "1.5.0",
            "_model_name": "FloatSliderModel",
            "_view_count": null,
            "_view_module": "@jupyter-widgets/controls",
            "_view_module_version": "1.5.0",
            "_view_name": "FloatSliderView",
            "continuous_update": true,
            "description": "exp_rate",
            "description_tooltip": null,
            "disabled": false,
            "layout": "IPY_MODEL_9c1725ace38c4315a6a9ba36fb5827be",
            "max": 50,
            "min": -200,
            "orientation": "horizontal",
            "readout": true,
            "readout_format": ".2f",
            "step": 1,
            "style": "IPY_MODEL_836c318e40bb482ca262132d956a9946",
            "value": -12
          }
        },
        "aa38c5fa94fc4fe0b07a852e76f282f8": {
          "model_module": "@jupyter-widgets/controls",
          "model_name": "FloatSliderModel",
          "model_module_version": "1.5.0",
          "state": {
            "_dom_classes": [],
            "_model_module": "@jupyter-widgets/controls",
            "_model_module_version": "1.5.0",
            "_model_name": "FloatSliderModel",
            "_view_count": null,
            "_view_module": "@jupyter-widgets/controls",
            "_view_module_version": "1.5.0",
            "_view_name": "FloatSliderView",
            "continuous_update": true,
            "description": "exp_x0",
            "description_tooltip": null,
            "disabled": false,
            "layout": "IPY_MODEL_5bfed6c4f13445e6a95e036806269459",
            "max": 0.5,
            "min": -0.5,
            "orientation": "horizontal",
            "readout": true,
            "readout_format": ".2f",
            "step": 0.005,
            "style": "IPY_MODEL_c44169adbf0c4f009f96eedecd437f67",
            "value": 0.065
          }
        },
        "238bf89a4a6d4bbca9443629bcc00861": {
          "model_module": "@jupyter-widgets/controls",
          "model_name": "FloatSliderModel",
          "model_module_version": "1.5.0",
          "state": {
            "_dom_classes": [],
            "_model_module": "@jupyter-widgets/controls",
            "_model_module_version": "1.5.0",
            "_model_name": "FloatSliderModel",
            "_view_count": null,
            "_view_module": "@jupyter-widgets/controls",
            "_view_module_version": "1.5.0",
            "_view_name": "FloatSliderView",
            "continuous_update": true,
            "description": "inv_scale",
            "description_tooltip": null,
            "disabled": false,
            "layout": "IPY_MODEL_e4ba5a9d5b294d69af2f04c27ebd26dc",
            "max": 300,
            "min": 0,
            "orientation": "horizontal",
            "readout": true,
            "readout_format": ".2f",
            "step": 10,
            "style": "IPY_MODEL_a2454a32af71463396f2211d5c90390e",
            "value": 300
          }
        },
        "8aba09eac4054721a997ebf30354d5cb": {
          "model_module": "@jupyter-widgets/controls",
          "model_name": "FloatSliderModel",
          "model_module_version": "1.5.0",
          "state": {
            "_dom_classes": [],
            "_model_module": "@jupyter-widgets/controls",
            "_model_module_version": "1.5.0",
            "_model_name": "FloatSliderModel",
            "_view_count": null,
            "_view_module": "@jupyter-widgets/controls",
            "_view_module_version": "1.5.0",
            "_view_name": "FloatSliderView",
            "continuous_update": true,
            "description": "inv_x0",
            "description_tooltip": null,
            "disabled": false,
            "layout": "IPY_MODEL_f90c7589c8314ce5996e5da0a1fee1e3",
            "max": 0.2,
            "min": -0.2,
            "orientation": "horizontal",
            "readout": true,
            "readout_format": ".2f",
            "step": 0.01,
            "style": "IPY_MODEL_6f2be01b238c452cbed37a317515593d",
            "value": 0
          }
        },
        "f4d62ccdea054f97837c5460d565031a": {
          "model_module": "@jupyter-widgets/controls",
          "model_name": "FloatSliderModel",
          "model_module_version": "1.5.0",
          "state": {
            "_dom_classes": [],
            "_model_module": "@jupyter-widgets/controls",
            "_model_module_version": "1.5.0",
            "_model_name": "FloatSliderModel",
            "_view_count": null,
            "_view_module": "@jupyter-widgets/controls",
            "_view_module_version": "1.5.0",
            "_view_name": "FloatSliderView",
            "continuous_update": true,
            "description": "lin_slope",
            "description_tooltip": null,
            "disabled": false,
            "layout": "IPY_MODEL_89b9c2c682464d5aa735cc3d963d8310",
            "max": 100000,
            "min": -600000,
            "orientation": "horizontal",
            "readout": true,
            "readout_format": ".2f",
            "step": 10000,
            "style": "IPY_MODEL_0f30cf491f76494ebf26287d72902254",
            "value": -100000
          }
        },
        "6a4256d0e1e649ae9d4f53469ec09018": {
          "model_module": "@jupyter-widgets/controls",
          "model_name": "FloatSliderModel",
          "model_module_version": "1.5.0",
          "state": {
            "_dom_classes": [],
            "_model_module": "@jupyter-widgets/controls",
            "_model_module_version": "1.5.0",
            "_model_name": "FloatSliderModel",
            "_view_count": null,
            "_view_module": "@jupyter-widgets/controls",
            "_view_module_version": "1.5.0",
            "_view_name": "FloatSliderView",
            "continuous_update": true,
            "description": "lin_y0",
            "description_tooltip": null,
            "disabled": false,
            "layout": "IPY_MODEL_4b2e4bcd312545beb00c6a97427c1e96",
            "max": 40000,
            "min": 0,
            "orientation": "horizontal",
            "readout": true,
            "readout_format": ".2f",
            "step": 1000,
            "style": "IPY_MODEL_717a71fd32ec4c36829eb1b20b14d689",
            "value": 10000
          }
        },
        "bbd03ffb0757497abc402f17cc606506": {
          "model_module": "@jupyter-widgets/output",
          "model_name": "OutputModel",
          "model_module_version": "1.0.0",
          "state": {
            "_dom_classes": [],
            "_model_module": "@jupyter-widgets/output",
            "_model_module_version": "1.0.0",
            "_model_name": "OutputModel",
            "_view_count": null,
            "_view_module": "@jupyter-widgets/output",
            "_view_module_version": "1.0.0",
            "_view_name": "OutputView",
            "layout": "IPY_MODEL_b9ca056069964825a49a7fc22968cf73",
            "msg_id": "",
            "outputs": [
              {
                "output_type": "display_data",
                "data": {
                  "text/plain": "<Figure size 576x432 with 1 Axes>",
                  "image/png": "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\n"
                },
                "metadata": {
                  "image/png": {
                    "width": 558,
                    "height": 413
                  },
                  "needs_background": "light"
                }
              }
            ]
          }
        },
        "36e9678ef80e4370a56bc78502c939a2": {
          "model_module": "@jupyter-widgets/base",
          "model_name": "LayoutModel",
          "model_module_version": "1.2.0",
          "state": {
            "_model_module": "@jupyter-widgets/base",
            "_model_module_version": "1.2.0",
            "_model_name": "LayoutModel",
            "_view_count": null,
            "_view_module": "@jupyter-widgets/base",
            "_view_module_version": "1.2.0",
            "_view_name": "LayoutView",
            "align_content": null,
            "align_items": null,
            "align_self": null,
            "border": null,
            "bottom": null,
            "display": null,
            "flex": null,
            "flex_flow": null,
            "grid_area": null,
            "grid_auto_columns": null,
            "grid_auto_flow": null,
            "grid_auto_rows": null,
            "grid_column": null,
            "grid_gap": null,
            "grid_row": null,
            "grid_template_areas": null,
            "grid_template_columns": null,
            "grid_template_rows": null,
            "height": null,
            "justify_content": null,
            "justify_items": null,
            "left": null,
            "margin": null,
            "max_height": null,
            "max_width": null,
            "min_height": null,
            "min_width": null,
            "object_fit": null,
            "object_position": null,
            "order": null,
            "overflow": null,
            "overflow_x": null,
            "overflow_y": null,
            "padding": null,
            "right": null,
            "top": null,
            "visibility": null,
            "width": null
          }
        },
        "2ba0e25eebe442338b678336c5f09f0a": {
          "model_module": "@jupyter-widgets/base",
          "model_name": "LayoutModel",
          "model_module_version": "1.2.0",
          "state": {
            "_model_module": "@jupyter-widgets/base",
            "_model_module_version": "1.2.0",
            "_model_name": "LayoutModel",
            "_view_count": null,
            "_view_module": "@jupyter-widgets/base",
            "_view_module_version": "1.2.0",
            "_view_name": "LayoutView",
            "align_content": null,
            "align_items": null,
            "align_self": null,
            "border": null,
            "bottom": null,
            "display": null,
            "flex": null,
            "flex_flow": null,
            "grid_area": null,
            "grid_auto_columns": null,
            "grid_auto_flow": null,
            "grid_auto_rows": null,
            "grid_column": null,
            "grid_gap": null,
            "grid_row": null,
            "grid_template_areas": null,
            "grid_template_columns": null,
            "grid_template_rows": null,
            "height": null,
            "justify_content": null,
            "justify_items": null,
            "left": null,
            "margin": null,
            "max_height": null,
            "max_width": null,
            "min_height": null,
            "min_width": null,
            "object_fit": null,
            "object_position": null,
            "order": null,
            "overflow": null,
            "overflow_x": null,
            "overflow_y": null,
            "padding": null,
            "right": null,
            "top": null,
            "visibility": null,
            "width": null
          }
        },
        "04a45e981ce44de981ed16b61d10cbc3": {
          "model_module": "@jupyter-widgets/controls",
          "model_name": "SliderStyleModel",
          "model_module_version": "1.5.0",
          "state": {
            "_model_module": "@jupyter-widgets/controls",
            "_model_module_version": "1.5.0",
            "_model_name": "SliderStyleModel",
            "_view_count": null,
            "_view_module": "@jupyter-widgets/base",
            "_view_module_version": "1.2.0",
            "_view_name": "StyleView",
            "description_width": "",
            "handle_color": null
          }
        },
        "9c1725ace38c4315a6a9ba36fb5827be": {
          "model_module": "@jupyter-widgets/base",
          "model_name": "LayoutModel",
          "model_module_version": "1.2.0",
          "state": {
            "_model_module": "@jupyter-widgets/base",
            "_model_module_version": "1.2.0",
            "_model_name": "LayoutModel",
            "_view_count": null,
            "_view_module": "@jupyter-widgets/base",
            "_view_module_version": "1.2.0",
            "_view_name": "LayoutView",
            "align_content": null,
            "align_items": null,
            "align_self": null,
            "border": null,
            "bottom": null,
            "display": null,
            "flex": null,
            "flex_flow": null,
            "grid_area": null,
            "grid_auto_columns": null,
            "grid_auto_flow": null,
            "grid_auto_rows": null,
            "grid_column": null,
            "grid_gap": null,
            "grid_row": null,
            "grid_template_areas": null,
            "grid_template_columns": null,
            "grid_template_rows": null,
            "height": null,
            "justify_content": null,
            "justify_items": null,
            "left": null,
            "margin": null,
            "max_height": null,
            "max_width": null,
            "min_height": null,
            "min_width": null,
            "object_fit": null,
            "object_position": null,
            "order": null,
            "overflow": null,
            "overflow_x": null,
            "overflow_y": null,
            "padding": null,
            "right": null,
            "top": null,
            "visibility": null,
            "width": null
          }
        },
        "836c318e40bb482ca262132d956a9946": {
          "model_module": "@jupyter-widgets/controls",
          "model_name": "SliderStyleModel",
          "model_module_version": "1.5.0",
          "state": {
            "_model_module": "@jupyter-widgets/controls",
            "_model_module_version": "1.5.0",
            "_model_name": "SliderStyleModel",
            "_view_count": null,
            "_view_module": "@jupyter-widgets/base",
            "_view_module_version": "1.2.0",
            "_view_name": "StyleView",
            "description_width": "",
            "handle_color": null
          }
        },
        "5bfed6c4f13445e6a95e036806269459": {
          "model_module": "@jupyter-widgets/base",
          "model_name": "LayoutModel",
          "model_module_version": "1.2.0",
          "state": {
            "_model_module": "@jupyter-widgets/base",
            "_model_module_version": "1.2.0",
            "_model_name": "LayoutModel",
            "_view_count": null,
            "_view_module": "@jupyter-widgets/base",
            "_view_module_version": "1.2.0",
            "_view_name": "LayoutView",
            "align_content": null,
            "align_items": null,
            "align_self": null,
            "border": null,
            "bottom": null,
            "display": null,
            "flex": null,
            "flex_flow": null,
            "grid_area": null,
            "grid_auto_columns": null,
            "grid_auto_flow": null,
            "grid_auto_rows": null,
            "grid_column": null,
            "grid_gap": null,
            "grid_row": null,
            "grid_template_areas": null,
            "grid_template_columns": null,
            "grid_template_rows": null,
            "height": null,
            "justify_content": null,
            "justify_items": null,
            "left": null,
            "margin": null,
            "max_height": null,
            "max_width": null,
            "min_height": null,
            "min_width": null,
            "object_fit": null,
            "object_position": null,
            "order": null,
            "overflow": null,
            "overflow_x": null,
            "overflow_y": null,
            "padding": null,
            "right": null,
            "top": null,
            "visibility": null,
            "width": null
          }
        },
        "c44169adbf0c4f009f96eedecd437f67": {
          "model_module": "@jupyter-widgets/controls",
          "model_name": "SliderStyleModel",
          "model_module_version": "1.5.0",
          "state": {
            "_model_module": "@jupyter-widgets/controls",
            "_model_module_version": "1.5.0",
            "_model_name": "SliderStyleModel",
            "_view_count": null,
            "_view_module": "@jupyter-widgets/base",
            "_view_module_version": "1.2.0",
            "_view_name": "StyleView",
            "description_width": "",
            "handle_color": null
          }
        },
        "e4ba5a9d5b294d69af2f04c27ebd26dc": {
          "model_module": "@jupyter-widgets/base",
          "model_name": "LayoutModel",
          "model_module_version": "1.2.0",
          "state": {
            "_model_module": "@jupyter-widgets/base",
            "_model_module_version": "1.2.0",
            "_model_name": "LayoutModel",
            "_view_count": null,
            "_view_module": "@jupyter-widgets/base",
            "_view_module_version": "1.2.0",
            "_view_name": "LayoutView",
            "align_content": null,
            "align_items": null,
            "align_self": null,
            "border": null,
            "bottom": null,
            "display": null,
            "flex": null,
            "flex_flow": null,
            "grid_area": null,
            "grid_auto_columns": null,
            "grid_auto_flow": null,
            "grid_auto_rows": null,
            "grid_column": null,
            "grid_gap": null,
            "grid_row": null,
            "grid_template_areas": null,
            "grid_template_columns": null,
            "grid_template_rows": null,
            "height": null,
            "justify_content": null,
            "justify_items": null,
            "left": null,
            "margin": null,
            "max_height": null,
            "max_width": null,
            "min_height": null,
            "min_width": null,
            "object_fit": null,
            "object_position": null,
            "order": null,
            "overflow": null,
            "overflow_x": null,
            "overflow_y": null,
            "padding": null,
            "right": null,
            "top": null,
            "visibility": null,
            "width": null
          }
        },
        "a2454a32af71463396f2211d5c90390e": {
          "model_module": "@jupyter-widgets/controls",
          "model_name": "SliderStyleModel",
          "model_module_version": "1.5.0",
          "state": {
            "_model_module": "@jupyter-widgets/controls",
            "_model_module_version": "1.5.0",
            "_model_name": "SliderStyleModel",
            "_view_count": null,
            "_view_module": "@jupyter-widgets/base",
            "_view_module_version": "1.2.0",
            "_view_name": "StyleView",
            "description_width": "",
            "handle_color": null
          }
        },
        "f90c7589c8314ce5996e5da0a1fee1e3": {
          "model_module": "@jupyter-widgets/base",
          "model_name": "LayoutModel",
          "model_module_version": "1.2.0",
          "state": {
            "_model_module": "@jupyter-widgets/base",
            "_model_module_version": "1.2.0",
            "_model_name": "LayoutModel",
            "_view_count": null,
            "_view_module": "@jupyter-widgets/base",
            "_view_module_version": "1.2.0",
            "_view_name": "LayoutView",
            "align_content": null,
            "align_items": null,
            "align_self": null,
            "border": null,
            "bottom": null,
            "display": null,
            "flex": null,
            "flex_flow": null,
            "grid_area": null,
            "grid_auto_columns": null,
            "grid_auto_flow": null,
            "grid_auto_rows": null,
            "grid_column": null,
            "grid_gap": null,
            "grid_row": null,
            "grid_template_areas": null,
            "grid_template_columns": null,
            "grid_template_rows": null,
            "height": null,
            "justify_content": null,
            "justify_items": null,
            "left": null,
            "margin": null,
            "max_height": null,
            "max_width": null,
            "min_height": null,
            "min_width": null,
            "object_fit": null,
            "object_position": null,
            "order": null,
            "overflow": null,
            "overflow_x": null,
            "overflow_y": null,
            "padding": null,
            "right": null,
            "top": null,
            "visibility": null,
            "width": null
          }
        },
        "6f2be01b238c452cbed37a317515593d": {
          "model_module": "@jupyter-widgets/controls",
          "model_name": "SliderStyleModel",
          "model_module_version": "1.5.0",
          "state": {
            "_model_module": "@jupyter-widgets/controls",
            "_model_module_version": "1.5.0",
            "_model_name": "SliderStyleModel",
            "_view_count": null,
            "_view_module": "@jupyter-widgets/base",
            "_view_module_version": "1.2.0",
            "_view_name": "StyleView",
            "description_width": "",
            "handle_color": null
          }
        },
        "89b9c2c682464d5aa735cc3d963d8310": {
          "model_module": "@jupyter-widgets/base",
          "model_name": "LayoutModel",
          "model_module_version": "1.2.0",
          "state": {
            "_model_module": "@jupyter-widgets/base",
            "_model_module_version": "1.2.0",
            "_model_name": "LayoutModel",
            "_view_count": null,
            "_view_module": "@jupyter-widgets/base",
            "_view_module_version": "1.2.0",
            "_view_name": "LayoutView",
            "align_content": null,
            "align_items": null,
            "align_self": null,
            "border": null,
            "bottom": null,
            "display": null,
            "flex": null,
            "flex_flow": null,
            "grid_area": null,
            "grid_auto_columns": null,
            "grid_auto_flow": null,
            "grid_auto_rows": null,
            "grid_column": null,
            "grid_gap": null,
            "grid_row": null,
            "grid_template_areas": null,
            "grid_template_columns": null,
            "grid_template_rows": null,
            "height": null,
            "justify_content": null,
            "justify_items": null,
            "left": null,
            "margin": null,
            "max_height": null,
            "max_width": null,
            "min_height": null,
            "min_width": null,
            "object_fit": null,
            "object_position": null,
            "order": null,
            "overflow": null,
            "overflow_x": null,
            "overflow_y": null,
            "padding": null,
            "right": null,
            "top": null,
            "visibility": null,
            "width": null
          }
        },
        "0f30cf491f76494ebf26287d72902254": {
          "model_module": "@jupyter-widgets/controls",
          "model_name": "SliderStyleModel",
          "model_module_version": "1.5.0",
          "state": {
            "_model_module": "@jupyter-widgets/controls",
            "_model_module_version": "1.5.0",
            "_model_name": "SliderStyleModel",
            "_view_count": null,
            "_view_module": "@jupyter-widgets/base",
            "_view_module_version": "1.2.0",
            "_view_name": "StyleView",
            "description_width": "",
            "handle_color": null
          }
        },
        "4b2e4bcd312545beb00c6a97427c1e96": {
          "model_module": "@jupyter-widgets/base",
          "model_name": "LayoutModel",
          "model_module_version": "1.2.0",
          "state": {
            "_model_module": "@jupyter-widgets/base",
            "_model_module_version": "1.2.0",
            "_model_name": "LayoutModel",
            "_view_count": null,
            "_view_module": "@jupyter-widgets/base",
            "_view_module_version": "1.2.0",
            "_view_name": "LayoutView",
            "align_content": null,
            "align_items": null,
            "align_self": null,
            "border": null,
            "bottom": null,
            "display": null,
            "flex": null,
            "flex_flow": null,
            "grid_area": null,
            "grid_auto_columns": null,
            "grid_auto_flow": null,
            "grid_auto_rows": null,
            "grid_column": null,
            "grid_gap": null,
            "grid_row": null,
            "grid_template_areas": null,
            "grid_template_columns": null,
            "grid_template_rows": null,
            "height": null,
            "justify_content": null,
            "justify_items": null,
            "left": null,
            "margin": null,
            "max_height": null,
            "max_width": null,
            "min_height": null,
            "min_width": null,
            "object_fit": null,
            "object_position": null,
            "order": null,
            "overflow": null,
            "overflow_x": null,
            "overflow_y": null,
            "padding": null,
            "right": null,
            "top": null,
            "visibility": null,
            "width": null
          }
        },
        "717a71fd32ec4c36829eb1b20b14d689": {
          "model_module": "@jupyter-widgets/controls",
          "model_name": "SliderStyleModel",
          "model_module_version": "1.5.0",
          "state": {
            "_model_module": "@jupyter-widgets/controls",
            "_model_module_version": "1.5.0",
            "_model_name": "SliderStyleModel",
            "_view_count": null,
            "_view_module": "@jupyter-widgets/base",
            "_view_module_version": "1.2.0",
            "_view_name": "StyleView",
            "description_width": "",
            "handle_color": null
          }
        },
        "b9ca056069964825a49a7fc22968cf73": {
          "model_module": "@jupyter-widgets/base",
          "model_name": "LayoutModel",
          "model_module_version": "1.2.0",
          "state": {
            "_model_module": "@jupyter-widgets/base",
            "_model_module_version": "1.2.0",
            "_model_name": "LayoutModel",
            "_view_count": null,
            "_view_module": "@jupyter-widgets/base",
            "_view_module_version": "1.2.0",
            "_view_name": "LayoutView",
            "align_content": null,
            "align_items": null,
            "align_self": null,
            "border": null,
            "bottom": null,
            "display": null,
            "flex": null,
            "flex_flow": null,
            "grid_area": null,
            "grid_auto_columns": null,
            "grid_auto_flow": null,
            "grid_auto_rows": null,
            "grid_column": null,
            "grid_gap": null,
            "grid_row": null,
            "grid_template_areas": null,
            "grid_template_columns": null,
            "grid_template_rows": null,
            "height": null,
            "justify_content": null,
            "justify_items": null,
            "left": null,
            "margin": null,
            "max_height": null,
            "max_width": null,
            "min_height": null,
            "min_width": null,
            "object_fit": null,
            "object_position": null,
            "order": null,
            "overflow": null,
            "overflow_x": null,
            "overflow_y": null,
            "padding": null,
            "right": null,
            "top": null,
            "visibility": null,
            "width": null
          }
        },
        "780f64310a2b4645839032cfbd8a3dbc": {
          "model_module": "@jupyter-widgets/controls",
          "model_name": "TabModel",
          "model_module_version": "1.5.0",
          "state": {
            "_dom_classes": [],
            "_model_module": "@jupyter-widgets/controls",
            "_model_module_version": "1.5.0",
            "_model_name": "TabModel",
            "_titles": {
              "0": "Youtube",
              "1": "Bilibili"
            },
            "_view_count": null,
            "_view_module": "@jupyter-widgets/controls",
            "_view_module_version": "1.5.0",
            "_view_name": "TabView",
            "box_style": "",
            "children": [
              "IPY_MODEL_1047c37ecbe74f818d055a1d6ace2158",
              "IPY_MODEL_596aea14335441c6bf5161a2df7f8974"
            ],
            "layout": "IPY_MODEL_2e3bb4cfc15e493a9857763620d95cf0",
            "selected_index": 0
          }
        },
        "1047c37ecbe74f818d055a1d6ace2158": {
          "model_module": "@jupyter-widgets/output",
          "model_name": "OutputModel",
          "model_module_version": "1.0.0",
          "state": {
            "_dom_classes": [],
            "_model_module": "@jupyter-widgets/output",
            "_model_module_version": "1.0.0",
            "_model_name": "OutputModel",
            "_view_count": null,
            "_view_module": "@jupyter-widgets/output",
            "_view_module_version": "1.0.0",
            "_view_name": "OutputView",
            "layout": "IPY_MODEL_a18ca91b2b114caa813658cf20c56909",
            "msg_id": "",
            "outputs": [
              {
                "output_type": "stream",
                "name": "stdout",
                "text": [
                  "Video available at https://youtube.com/watch?v=uW2HDk_4-wk\n"
                ]
              },
              {
                "output_type": "display_data",
                "data": {
                  "text/plain": "<IPython.lib.display.YouTubeVideo at 0x7feeaf9d0cd0>",
                  "text/html": "\n        <iframe\n            width=\"854\"\n            height=\"480\"\n            src=\"https://www.youtube.com/embed/uW2HDk_4-wk?fs=1&rel=0\"\n            frameborder=\"0\"\n            allowfullscreen\n        ></iframe>\n        ",
                  "image/jpeg": "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\n"
                },
                "metadata": {}
              }
            ]
          }
        },
        "596aea14335441c6bf5161a2df7f8974": {
          "model_module": "@jupyter-widgets/output",
          "model_name": "OutputModel",
          "model_module_version": "1.0.0",
          "state": {
            "_dom_classes": [],
            "_model_module": "@jupyter-widgets/output",
            "_model_module_version": "1.0.0",
            "_model_name": "OutputModel",
            "_view_count": null,
            "_view_module": "@jupyter-widgets/output",
            "_view_module_version": "1.0.0",
            "_view_name": "OutputView",
            "layout": "IPY_MODEL_edacc8566389412fbba8a7a82b0518a3",
            "msg_id": "",
            "outputs": [
              {
                "output_type": "stream",
                "name": "stdout",
                "text": [
                  "Video available at https://www.bilibili.com/video/BV1w54y1S7Eb\n"
                ]
              },
              {
                "output_type": "display_data",
                "data": {
                  "text/plain": "<__main__.BiliVideo at 0x7feeb2503f10>",
                  "text/html": "\n        <iframe\n            width=\"854\"\n            height=\"480\"\n            src=\"https://player.bilibili.com/player.html?bvid=BV1w54y1S7Eb&page=1?fs=1\"\n            frameborder=\"0\"\n            allowfullscreen\n        ></iframe>\n        "
                },
                "metadata": {}
              }
            ]
          }
        },
        "2e3bb4cfc15e493a9857763620d95cf0": {
          "model_module": "@jupyter-widgets/base",
          "model_name": "LayoutModel",
          "model_module_version": "1.2.0",
          "state": {
            "_model_module": "@jupyter-widgets/base",
            "_model_module_version": "1.2.0",
            "_model_name": "LayoutModel",
            "_view_count": null,
            "_view_module": "@jupyter-widgets/base",
            "_view_module_version": "1.2.0",
            "_view_name": "LayoutView",
            "align_content": null,
            "align_items": null,
            "align_self": null,
            "border": null,
            "bottom": null,
            "display": null,
            "flex": null,
            "flex_flow": null,
            "grid_area": null,
            "grid_auto_columns": null,
            "grid_auto_flow": null,
            "grid_auto_rows": null,
            "grid_column": null,
            "grid_gap": null,
            "grid_row": null,
            "grid_template_areas": null,
            "grid_template_columns": null,
            "grid_template_rows": null,
            "height": null,
            "justify_content": null,
            "justify_items": null,
            "left": null,
            "margin": null,
            "max_height": null,
            "max_width": null,
            "min_height": null,
            "min_width": null,
            "object_fit": null,
            "object_position": null,
            "order": null,
            "overflow": null,
            "overflow_x": null,
            "overflow_y": null,
            "padding": null,
            "right": null,
            "top": null,
            "visibility": null,
            "width": null
          }
        },
        "a18ca91b2b114caa813658cf20c56909": {
          "model_module": "@jupyter-widgets/base",
          "model_name": "LayoutModel",
          "model_module_version": "1.2.0",
          "state": {
            "_model_module": "@jupyter-widgets/base",
            "_model_module_version": "1.2.0",
            "_model_name": "LayoutModel",
            "_view_count": null,
            "_view_module": "@jupyter-widgets/base",
            "_view_module_version": "1.2.0",
            "_view_name": "LayoutView",
            "align_content": null,
            "align_items": null,
            "align_self": null,
            "border": null,
            "bottom": null,
            "display": null,
            "flex": null,
            "flex_flow": null,
            "grid_area": null,
            "grid_auto_columns": null,
            "grid_auto_flow": null,
            "grid_auto_rows": null,
            "grid_column": null,
            "grid_gap": null,
            "grid_row": null,
            "grid_template_areas": null,
            "grid_template_columns": null,
            "grid_template_rows": null,
            "height": null,
            "justify_content": null,
            "justify_items": null,
            "left": null,
            "margin": null,
            "max_height": null,
            "max_width": null,
            "min_height": null,
            "min_width": null,
            "object_fit": null,
            "object_position": null,
            "order": null,
            "overflow": null,
            "overflow_x": null,
            "overflow_y": null,
            "padding": null,
            "right": null,
            "top": null,
            "visibility": null,
            "width": null
          }
        },
        "edacc8566389412fbba8a7a82b0518a3": {
          "model_module": "@jupyter-widgets/base",
          "model_name": "LayoutModel",
          "model_module_version": "1.2.0",
          "state": {
            "_model_module": "@jupyter-widgets/base",
            "_model_module_version": "1.2.0",
            "_model_name": "LayoutModel",
            "_view_count": null,
            "_view_module": "@jupyter-widgets/base",
            "_view_module_version": "1.2.0",
            "_view_name": "LayoutView",
            "align_content": null,
            "align_items": null,
            "align_self": null,
            "border": null,
            "bottom": null,
            "display": null,
            "flex": null,
            "flex_flow": null,
            "grid_area": null,
            "grid_auto_columns": null,
            "grid_auto_flow": null,
            "grid_auto_rows": null,
            "grid_column": null,
            "grid_gap": null,
            "grid_row": null,
            "grid_template_areas": null,
            "grid_template_columns": null,
            "grid_template_rows": null,
            "height": null,
            "justify_content": null,
            "justify_items": null,
            "left": null,
            "margin": null,
            "max_height": null,
            "max_width": null,
            "min_height": null,
            "min_width": null,
            "object_fit": null,
            "object_position": null,
            "order": null,
            "overflow": null,
            "overflow_x": null,
            "overflow_y": null,
            "padding": null,
            "right": null,
            "top": null,
            "visibility": null,
            "width": null
          }
        }
      }
    }
  },
  "nbformat": 4,
  "nbformat_minor": 0
}